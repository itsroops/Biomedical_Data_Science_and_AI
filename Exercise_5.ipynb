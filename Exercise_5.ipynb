{
  "nbformat": 4,
  "nbformat_minor": 0,
  "metadata": {
    "colab": {
      "name": "Guha Neogi_Elsayed_Islam_Sheet5.ipynb",
      "provenance": [],
      "collapsed_sections": []
    },
    "kernelspec": {
      "name": "python3",
      "display_name": "Python 3"
    }
  },
  "cells": [
    {
      "cell_type": "markdown",
      "metadata": {
        "id": "R9GN0awL3tre"
      },
      "source": [
        "**Answer Q1**"
      ]
    },
    {
      "cell_type": "markdown",
      "metadata": {
        "id": "0dIYbbeW32MF"
      },
      "source": [
        "**PART 2**"
      ]
    },
    {
      "cell_type": "code",
      "metadata": {
        "id": "QO92lGX1FBTq",
        "colab": {
          "base_uri": "https://localhost:8080/",
          "height": 35
        },
        "outputId": "f8dfe7de-4d93-4b93-af40-d0ae4f9b563c"
      },
      "source": [
        "# Mounting the Google Drive for accessing the iris dataset\n",
        "from google.colab import drive\n",
        "drive.mount('/content/drive')"
      ],
      "execution_count": null,
      "outputs": [
        {
          "output_type": "stream",
          "text": [
            "Drive already mounted at /content/drive; to attempt to forcibly remount, call drive.mount(\"/content/drive\", force_remount=True).\n"
          ],
          "name": "stdout"
        }
      ]
    },
    {
      "cell_type": "code",
      "metadata": {
        "id": "FkTOfhGpFrWf",
        "colab": {
          "base_uri": "https://localhost:8080/",
          "height": 424
        },
        "outputId": "d146aef6-fe12-4d3f-98a3-3fcac0dfb5f5"
      },
      "source": [
        "# Importing the necessary package to read the dataset\n",
        "import pandas as pd\n",
        "\n",
        "# Reading the content of the dataset to a dataframe\n",
        "df = pd.read_csv(\"/content/drive/My Drive/Colab Notebooks/Data Files/processedClevelandData.csv\",sep=\";\")\n",
        "\n",
        "# Dropping the oldpeak and id column\n",
        "df.drop(columns=['id', 'oldpeak'])"
      ],
      "execution_count": null,
      "outputs": [
        {
          "output_type": "execute_result",
          "data": {
            "text/html": [
              "<div>\n",
              "<style scoped>\n",
              "    .dataframe tbody tr th:only-of-type {\n",
              "        vertical-align: middle;\n",
              "    }\n",
              "\n",
              "    .dataframe tbody tr th {\n",
              "        vertical-align: top;\n",
              "    }\n",
              "\n",
              "    .dataframe thead th {\n",
              "        text-align: right;\n",
              "    }\n",
              "</style>\n",
              "<table border=\"1\" class=\"dataframe\">\n",
              "  <thead>\n",
              "    <tr style=\"text-align: right;\">\n",
              "      <th></th>\n",
              "      <th>Age</th>\n",
              "      <th>Sex</th>\n",
              "      <th>cp</th>\n",
              "      <th>trestbps</th>\n",
              "      <th>chol</th>\n",
              "      <th>fbs</th>\n",
              "      <th>resetecg</th>\n",
              "      <th>thalach</th>\n",
              "      <th>exang</th>\n",
              "      <th>slope</th>\n",
              "      <th>ca</th>\n",
              "      <th>thal</th>\n",
              "      <th>num</th>\n",
              "    </tr>\n",
              "  </thead>\n",
              "  <tbody>\n",
              "    <tr>\n",
              "      <th>0</th>\n",
              "      <td>63.0</td>\n",
              "      <td>1.0</td>\n",
              "      <td>1.0</td>\n",
              "      <td>145.0</td>\n",
              "      <td>233.0</td>\n",
              "      <td>1.0</td>\n",
              "      <td>2.0</td>\n",
              "      <td>150.0</td>\n",
              "      <td>0.0</td>\n",
              "      <td>3.0</td>\n",
              "      <td>0.0</td>\n",
              "      <td>6.0</td>\n",
              "      <td>0</td>\n",
              "    </tr>\n",
              "    <tr>\n",
              "      <th>1</th>\n",
              "      <td>67.0</td>\n",
              "      <td>1.0</td>\n",
              "      <td>4.0</td>\n",
              "      <td>160.0</td>\n",
              "      <td>286.0</td>\n",
              "      <td>0.0</td>\n",
              "      <td>2.0</td>\n",
              "      <td>108.0</td>\n",
              "      <td>1.0</td>\n",
              "      <td>2.0</td>\n",
              "      <td>3.0</td>\n",
              "      <td>3.0</td>\n",
              "      <td>2</td>\n",
              "    </tr>\n",
              "    <tr>\n",
              "      <th>2</th>\n",
              "      <td>67.0</td>\n",
              "      <td>1.0</td>\n",
              "      <td>4.0</td>\n",
              "      <td>120.0</td>\n",
              "      <td>229.0</td>\n",
              "      <td>0.0</td>\n",
              "      <td>2.0</td>\n",
              "      <td>129.0</td>\n",
              "      <td>1.0</td>\n",
              "      <td>2.0</td>\n",
              "      <td>2.0</td>\n",
              "      <td>7.0</td>\n",
              "      <td>1</td>\n",
              "    </tr>\n",
              "    <tr>\n",
              "      <th>3</th>\n",
              "      <td>37.0</td>\n",
              "      <td>1.0</td>\n",
              "      <td>3.0</td>\n",
              "      <td>130.0</td>\n",
              "      <td>250.0</td>\n",
              "      <td>0.0</td>\n",
              "      <td>0.0</td>\n",
              "      <td>187.0</td>\n",
              "      <td>0.0</td>\n",
              "      <td>3.0</td>\n",
              "      <td>0.0</td>\n",
              "      <td>3.0</td>\n",
              "      <td>0</td>\n",
              "    </tr>\n",
              "    <tr>\n",
              "      <th>4</th>\n",
              "      <td>41.0</td>\n",
              "      <td>0.0</td>\n",
              "      <td>2.0</td>\n",
              "      <td>130.0</td>\n",
              "      <td>204.0</td>\n",
              "      <td>0.0</td>\n",
              "      <td>2.0</td>\n",
              "      <td>172.0</td>\n",
              "      <td>0.0</td>\n",
              "      <td>1.0</td>\n",
              "      <td>0.0</td>\n",
              "      <td>3.0</td>\n",
              "      <td>0</td>\n",
              "    </tr>\n",
              "    <tr>\n",
              "      <th>...</th>\n",
              "      <td>...</td>\n",
              "      <td>...</td>\n",
              "      <td>...</td>\n",
              "      <td>...</td>\n",
              "      <td>...</td>\n",
              "      <td>...</td>\n",
              "      <td>...</td>\n",
              "      <td>...</td>\n",
              "      <td>...</td>\n",
              "      <td>...</td>\n",
              "      <td>...</td>\n",
              "      <td>...</td>\n",
              "      <td>...</td>\n",
              "    </tr>\n",
              "    <tr>\n",
              "      <th>298</th>\n",
              "      <td>45.0</td>\n",
              "      <td>1.0</td>\n",
              "      <td>1.0</td>\n",
              "      <td>110.0</td>\n",
              "      <td>264.0</td>\n",
              "      <td>0.0</td>\n",
              "      <td>0.0</td>\n",
              "      <td>132.0</td>\n",
              "      <td>0.0</td>\n",
              "      <td>2.0</td>\n",
              "      <td>0.0</td>\n",
              "      <td>7.0</td>\n",
              "      <td>1</td>\n",
              "    </tr>\n",
              "    <tr>\n",
              "      <th>299</th>\n",
              "      <td>68.0</td>\n",
              "      <td>1.0</td>\n",
              "      <td>4.0</td>\n",
              "      <td>144.0</td>\n",
              "      <td>193.0</td>\n",
              "      <td>1.0</td>\n",
              "      <td>0.0</td>\n",
              "      <td>141.0</td>\n",
              "      <td>0.0</td>\n",
              "      <td>2.0</td>\n",
              "      <td>2.0</td>\n",
              "      <td>7.0</td>\n",
              "      <td>2</td>\n",
              "    </tr>\n",
              "    <tr>\n",
              "      <th>300</th>\n",
              "      <td>57.0</td>\n",
              "      <td>1.0</td>\n",
              "      <td>4.0</td>\n",
              "      <td>130.0</td>\n",
              "      <td>131.0</td>\n",
              "      <td>0.0</td>\n",
              "      <td>0.0</td>\n",
              "      <td>115.0</td>\n",
              "      <td>1.0</td>\n",
              "      <td>2.0</td>\n",
              "      <td>1.0</td>\n",
              "      <td>7.0</td>\n",
              "      <td>3</td>\n",
              "    </tr>\n",
              "    <tr>\n",
              "      <th>301</th>\n",
              "      <td>57.0</td>\n",
              "      <td>0.0</td>\n",
              "      <td>2.0</td>\n",
              "      <td>130.0</td>\n",
              "      <td>236.0</td>\n",
              "      <td>0.0</td>\n",
              "      <td>2.0</td>\n",
              "      <td>174.0</td>\n",
              "      <td>0.0</td>\n",
              "      <td>2.0</td>\n",
              "      <td>1.0</td>\n",
              "      <td>3.0</td>\n",
              "      <td>1</td>\n",
              "    </tr>\n",
              "    <tr>\n",
              "      <th>302</th>\n",
              "      <td>38.0</td>\n",
              "      <td>1.0</td>\n",
              "      <td>3.0</td>\n",
              "      <td>138.0</td>\n",
              "      <td>175.0</td>\n",
              "      <td>0.0</td>\n",
              "      <td>0.0</td>\n",
              "      <td>173.0</td>\n",
              "      <td>0.0</td>\n",
              "      <td>1.0</td>\n",
              "      <td>?</td>\n",
              "      <td>3.0</td>\n",
              "      <td>0</td>\n",
              "    </tr>\n",
              "  </tbody>\n",
              "</table>\n",
              "<p>303 rows × 13 columns</p>\n",
              "</div>"
            ],
            "text/plain": [
              "      Age  Sex   cp  trestbps   chol  fbs  ...  thalach  exang  slope   ca thal num\n",
              "0    63.0  1.0  1.0     145.0  233.0  1.0  ...    150.0    0.0    3.0  0.0  6.0   0\n",
              "1    67.0  1.0  4.0     160.0  286.0  0.0  ...    108.0    1.0    2.0  3.0  3.0   2\n",
              "2    67.0  1.0  4.0     120.0  229.0  0.0  ...    129.0    1.0    2.0  2.0  7.0   1\n",
              "3    37.0  1.0  3.0     130.0  250.0  0.0  ...    187.0    0.0    3.0  0.0  3.0   0\n",
              "4    41.0  0.0  2.0     130.0  204.0  0.0  ...    172.0    0.0    1.0  0.0  3.0   0\n",
              "..    ...  ...  ...       ...    ...  ...  ...      ...    ...    ...  ...  ...  ..\n",
              "298  45.0  1.0  1.0     110.0  264.0  0.0  ...    132.0    0.0    2.0  0.0  7.0   1\n",
              "299  68.0  1.0  4.0     144.0  193.0  1.0  ...    141.0    0.0    2.0  2.0  7.0   2\n",
              "300  57.0  1.0  4.0     130.0  131.0  0.0  ...    115.0    1.0    2.0  1.0  7.0   3\n",
              "301  57.0  0.0  2.0     130.0  236.0  0.0  ...    174.0    0.0    2.0  1.0  3.0   1\n",
              "302  38.0  1.0  3.0     138.0  175.0  0.0  ...    173.0    0.0    1.0    ?  3.0   0\n",
              "\n",
              "[303 rows x 13 columns]"
            ]
          },
          "metadata": {
            "tags": []
          },
          "execution_count": 16
        }
      ]
    },
    {
      "cell_type": "markdown",
      "metadata": {
        "id": "HfkQU3gZm3ic"
      },
      "source": [
        "**Answer 1. c.**"
      ]
    },
    {
      "cell_type": "code",
      "metadata": {
        "id": "4LCYqvTSipYZ",
        "colab": {
          "base_uri": "https://localhost:8080/",
          "height": 513
        },
        "outputId": "04a7add7-4cf4-41ef-e4c2-9efbb1af76c2"
      },
      "source": [
        "# Adding the intercept to the model\n",
        "x = sm.add_constant(x)\n",
        "\n",
        "# Fitting the linear regresson model\n",
        "lm = sm.OLS(y,x).fit()\n",
        "print(lm.summary())"
      ],
      "execution_count": null,
      "outputs": [
        {
          "output_type": "stream",
          "text": [
            "                            OLS Regression Results                            \n",
            "==============================================================================\n",
            "Dep. Variable:                   chol   R-squared:                       0.017\n",
            "Model:                            OLS   Adj. R-squared:                  0.014\n",
            "Method:                 Least Squares   F-statistic:                     5.184\n",
            "Date:                Wed, 27 May 2020   Prob (F-statistic):             0.0235\n",
            "Time:                        19:10:02   Log-Likelihood:                -1622.8\n",
            "No. Observations:                 303   AIC:                             3250.\n",
            "Df Residuals:                     301   BIC:                             3257.\n",
            "Df Model:                           1                                         \n",
            "Covariance Type:            nonrobust                                         \n",
            "==============================================================================\n",
            "                 coef    std err          t      P>|t|      [0.025      0.975]\n",
            "------------------------------------------------------------------------------\n",
            "const        196.2820     22.337      8.787      0.000     152.326     240.238\n",
            "trestbps       0.3828      0.168      2.277      0.023       0.052       0.714\n",
            "==============================================================================\n",
            "Omnibus:                       89.388   Durbin-Watson:                   2.127\n",
            "Prob(Omnibus):                  0.000   Jarque-Bera (JB):              376.070\n",
            "Skew:                           1.180   Prob(JB):                     2.18e-82\n",
            "Kurtosis:                       7.921   Cond. No.                     1.00e+03\n",
            "==============================================================================\n",
            "\n",
            "Warnings:\n",
            "[1] Standard Errors assume that the covariance matrix of the errors is correctly specified.\n",
            "[2] The condition number is large,  1e+03. This might indicate that there are\n",
            "strong multicollinearity or other numerical problems.\n"
          ],
          "name": "stdout"
        }
      ]
    },
    {
      "cell_type": "markdown",
      "metadata": {
        "id": "5pSpsaHBi8i9"
      },
      "source": [
        "From the above summary, it is observed that the 95 % confidence interval \n",
        "1. For the predictor is **0.052 - 1.714** \n",
        "2. For the constant is **152.326 - 240.238**"
      ]
    },
    {
      "cell_type": "markdown",
      "metadata": {
        "id": "jV8zDL-4eQ5G"
      },
      "source": [
        "**It is observed that the intercept value is of no significance in the model. Hence, we remove it from the model**"
      ]
    },
    {
      "cell_type": "markdown",
      "metadata": {
        "id": "3xRph2tbnWEg"
      },
      "source": [
        "**Answer 1. a.**"
      ]
    },
    {
      "cell_type": "code",
      "metadata": {
        "id": "L0IdO6IOebJ7",
        "colab": {
          "base_uri": "https://localhost:8080/",
          "height": 458
        },
        "outputId": "1ed9887d-00db-49a2-8d2f-18bceae3044c"
      },
      "source": [
        "x = df[\"trestbps\"]\n",
        "# Fitting the linear regresson model\n",
        "lm = sm.OLS(y,x).fit()\n",
        "print(lm.summary())"
      ],
      "execution_count": null,
      "outputs": [
        {
          "output_type": "stream",
          "text": [
            "                                 OLS Regression Results                                \n",
            "=======================================================================================\n",
            "Dep. Variable:                   chol   R-squared (uncentered):                   0.948\n",
            "Model:                            OLS   Adj. R-squared (uncentered):              0.948\n",
            "Method:                 Least Squares   F-statistic:                              5511.\n",
            "Date:                Wed, 27 May 2020   Prob (F-statistic):                   5.39e-196\n",
            "Time:                        18:52:02   Log-Likelihood:                         -1657.4\n",
            "No. Observations:                 303   AIC:                                      3317.\n",
            "Df Residuals:                     302   BIC:                                      3320.\n",
            "Df Model:                           1                                                  \n",
            "Covariance Type:            nonrobust                                                  \n",
            "==============================================================================\n",
            "                 coef    std err          t      P>|t|      [0.025      0.975]\n",
            "------------------------------------------------------------------------------\n",
            "trestbps       1.8472      0.025     74.235      0.000       1.798       1.896\n",
            "==============================================================================\n",
            "Omnibus:                       62.855   Durbin-Watson:                   2.022\n",
            "Prob(Omnibus):                  0.000   Jarque-Bera (JB):              221.657\n",
            "Skew:                           0.853   Prob(JB):                     7.38e-49\n",
            "Kurtosis:                       6.827   Cond. No.                         1.00\n",
            "==============================================================================\n",
            "\n",
            "Warnings:\n",
            "[1] Standard Errors assume that the covariance matrix of the errors is correctly specified.\n"
          ],
          "name": "stdout"
        }
      ]
    },
    {
      "cell_type": "markdown",
      "metadata": {
        "id": "LqRkxgSHncgR"
      },
      "source": [
        "**Answer 1. b.**"
      ]
    },
    {
      "cell_type": "markdown",
      "metadata": {
        "id": "8kvQwJNwbJUx"
      },
      "source": [
        "The coefficient of the predictor variable trestbps is 1.8472. Here we look at the two aspects of the coefficient of the predictor variable i.e. the sign if the coefficient and the value of the coefficient. \n",
        "1. It is obsered that the sign is positive which means that as the value of this predictor variable increases, the mean of the dependent variable also increases. \n",
        "2. Since the value of coefficient is 1.8472, it essentially implies that the mean response value increases by 1.8472 units for every 1 unit change in the predictor. "
      ]
    },
    {
      "cell_type": "code",
      "metadata": {
        "id": "s_V0sdCZfyGa",
        "colab": {
          "base_uri": "https://localhost:8080/",
          "height": 35
        },
        "outputId": "92a08b6e-f912-48c9-fc63-356c21edfe49"
      },
      "source": [
        "# Predicting the cholesterol level associated with a resting blood pressure of 135\n",
        "predictions = lm.predict(135) \n",
        "print(predictions)"
      ],
      "execution_count": null,
      "outputs": [
        {
          "output_type": "stream",
          "text": [
            "[249.37466414]\n"
          ],
          "name": "stdout"
        }
      ]
    },
    {
      "cell_type": "markdown",
      "metadata": {
        "id": "XmuMW2l0muzj"
      },
      "source": [
        "**Answer 2**"
      ]
    },
    {
      "cell_type": "code",
      "metadata": {
        "id": "xm2Gsm9qlJ5o",
        "colab": {
          "base_uri": "https://localhost:8080/",
          "height": 513
        },
        "outputId": "f4ca9b84-dc0b-4d58-a919-14bdcb596329"
      },
      "source": [
        "# Importing necessary packages\n",
        "import matplotlib.pyplot as plt\n",
        "import seaborn as sns\n",
        "\n",
        "#Plotting Regplot with Seaborn\n",
        "plt.figure(figsize = (15,8))\n",
        "sns.regplot(df.trestbps, df.chol)\n",
        "plt.title('Serum Cholestoral Level vs. Resting blood Pressure')\n",
        "plt.show()"
      ],
      "execution_count": null,
      "outputs": [
        {
          "output_type": "display_data",
          "data": {
            "image/png": "[encoded data removed]",
            "text/plain": [
              "<Figure size 1080x576 with 1 Axes>"
            ]
          },
          "metadata": {
            "tags": [],
            "needs_background": "light"
          }
        }
      ]
    },
    {
      "cell_type": "markdown",
      "metadata": {
        "id": "dQJL1mEhshWg"
      },
      "source": [
        "**Answer 3**"
      ]
    },
    {
      "cell_type": "code",
      "metadata": {
        "id": "92r032ybskJo",
        "colab": {
          "base_uri": "https://localhost:8080/",
          "height": 513
        },
        "outputId": "521b3556-8b8b-4a6b-b7da-984de907e0ed"
      },
      "source": [
        "# Selecting the predictors\n",
        "x = df[['trestbps','Sex','Age','fbs']]\n",
        "\n",
        "# Fitting the linear regresson model\n",
        "lm = sm.OLS(y,x).fit()\n",
        "print(lm.summary())"
      ],
      "execution_count": null,
      "outputs": [
        {
          "output_type": "stream",
          "text": [
            "                                 OLS Regression Results                                \n",
            "=======================================================================================\n",
            "Dep. Variable:                   chol   R-squared (uncentered):                   0.955\n",
            "Model:                            OLS   Adj. R-squared (uncentered):              0.955\n",
            "Method:                 Least Squares   F-statistic:                              1591.\n",
            "Date:                Wed, 27 May 2020   Prob (F-statistic):                   4.24e-200\n",
            "Time:                        19:58:19   Log-Likelihood:                         -1635.2\n",
            "No. Observations:                 303   AIC:                                      3278.\n",
            "Df Residuals:                     299   BIC:                                      3293.\n",
            "Df Model:                           4                                                  \n",
            "Covariance Type:            nonrobust                                                  \n",
            "==============================================================================\n",
            "                 coef    std err          t      P>|t|      [0.025      0.975]\n",
            "------------------------------------------------------------------------------\n",
            "trestbps       1.0416      0.133      7.802      0.000       0.779       1.304\n",
            "Sex           -8.3520      6.433     -1.298      0.195     -21.012       4.308\n",
            "Age            2.1051      0.315      6.688      0.000       1.486       2.725\n",
            "fbs          -10.8048      8.760     -1.233      0.218     -28.044       6.434\n",
            "==============================================================================\n",
            "Omnibus:                       44.399   Durbin-Watson:                   1.965\n",
            "Prob(Omnibus):                  0.000   Jarque-Bera (JB):              121.818\n",
            "Skew:                           0.661   Prob(JB):                     3.53e-27\n",
            "Kurtosis:                       5.811   Cond. No.                         408.\n",
            "==============================================================================\n",
            "\n",
            "Warnings:\n",
            "[1] Standard Errors assume that the covariance matrix of the errors is correctly specified.\n"
          ],
          "name": "stdout"
        }
      ]
    },
    {
      "cell_type": "markdown",
      "metadata": {
        "id": "6MEzILiXt0M-"
      },
      "source": [
        "**Here Sex is a categorical variable**"
      ]
    },
    {
      "cell_type": "markdown",
      "metadata": {
        "id": "tHOuoBVe8NYQ"
      },
      "source": [
        "**Answer 3. a.**"
      ]
    },
    {
      "cell_type": "markdown",
      "metadata": {
        "id": "DexalzALIstr"
      },
      "source": [
        "Equation y = trestbps.c1 + Sex.C2 + Age.C3 + fbs.C4\n",
        "\n",
        "where c1, c2, c3, c4 are the contants of regression"
      ]
    },
    {
      "cell_type": "markdown",
      "metadata": {
        "id": "oJbHkxT7uhCN"
      },
      "source": [
        "**Answer 3. b.**"
      ]
    },
    {
      "cell_type": "markdown",
      "metadata": {
        "id": "kDWhUVAwuknW"
      },
      "source": [
        "The following predictors have positive effect on the disease progression: \n",
        "1. trestbps i.e. resting blood pressure\n",
        "2. Age\n",
        "\n",
        "The following predictors have negative effect on the disease progression: \n",
        "1. Sex\n",
        "2. fbs i.e. fasting blood sugar level\n",
        "\n"
      ]
    },
    {
      "cell_type": "markdown",
      "metadata": {
        "id": "MHPyTvcFvax5"
      },
      "source": [
        "**Answer 3. c.**"
      ]
    },
    {
      "cell_type": "markdown",
      "metadata": {
        "id": "rUURq3fdvdcy"
      },
      "source": [
        "For the all the four predictors namely:\n",
        "1. trestbps\n",
        "2. Age\n",
        "3. Sex\n",
        "4. fbs,  \n",
        " we can reject the null hypyothesis. This is because they have a coefficient value and their p-values are less that  0.05"
      ]
    },
    {
      "cell_type": "markdown",
      "metadata": {
        "id": "seGQyPjsv6Me"
      },
      "source": [
        "**Answer 3. d.**"
      ]
    },
    {
      "cell_type": "markdown",
      "metadata": {
        "id": "TGxpOXY2v9M6"
      },
      "source": [
        "The adjusted r-squared value is 0.955. There are two observations with respect to the value of the adjusted r-squared.\n",
        "1. This value reflects the fit of the model. It varies from 0 to 1. A value equal to 1 indicates a perfect fit. Hence, 0.955 indicates a pretty good fit in this case. \n",
        "2. It is also observed that the value of the adjusted r-squared is equal to the value of the r-squared, which essentially indicates that all the predictor variables are quite strongly correlated to the response variable. "
      ]
    },
    {
      "cell_type": "markdown",
      "metadata": {
        "id": "QmeaVqqA4OIf"
      },
      "source": [
        "**Answer 4. a.**"
      ]
    },
    {
      "cell_type": "code",
      "metadata": {
        "id": "snzz-qiU4jHg",
        "colab": {
          "base_uri": "https://localhost:8080/",
          "height": 35
        },
        "outputId": "fb3c3ffb-5f57-4e54-f519-459d7d68f4ac"
      },
      "source": [
        "from scipy.stats import pearsonr\n",
        "\n",
        "# calculate Pearson's correlation\n",
        "\n",
        "corr, _ = pearsonr(df['Age'], df['chol'])\n",
        "print('Pearson correlation coefficient: %.3f' % corr)"
      ],
      "execution_count": null,
      "outputs": [
        {
          "output_type": "stream",
          "text": [
            "Pearson correlation coefficient: 0.209\n"
          ],
          "name": "stdout"
        }
      ]
    },
    {
      "cell_type": "markdown",
      "metadata": {
        "id": "-YHWuA435BFW"
      },
      "source": [
        "Hence, there is almost no correlation between the two variables age and cholesterol level. \n",
        "\n",
        "**Answer is FALSE**"
      ]
    },
    {
      "cell_type": "markdown",
      "metadata": {
        "id": "I07kLI8K5w08"
      },
      "source": [
        "**Answer 4. b.**"
      ]
    },
    {
      "cell_type": "code",
      "metadata": {
        "id": "JJWAyHlv52tt",
        "colab": {
          "base_uri": "https://localhost:8080/",
          "height": 143
        },
        "outputId": "b65d2e31-c0a4-45a0-95e2-769c21df7813"
      },
      "source": [
        "df.groupby('Sex').mean()"
      ],
      "execution_count": null,
      "outputs": [
        {
          "output_type": "execute_result",
          "data": {
            "text/html": [
              "<div>\n",
              "<style scoped>\n",
              "    .dataframe tbody tr th:only-of-type {\n",
              "        vertical-align: middle;\n",
              "    }\n",
              "\n",
              "    .dataframe tbody tr th {\n",
              "        vertical-align: top;\n",
              "    }\n",
              "\n",
              "    .dataframe thead th {\n",
              "        text-align: right;\n",
              "    }\n",
              "</style>\n",
              "<table border=\"1\" class=\"dataframe\">\n",
              "  <thead>\n",
              "    <tr style=\"text-align: right;\">\n",
              "      <th></th>\n",
              "      <th>id</th>\n",
              "      <th>Age</th>\n",
              "      <th>cp</th>\n",
              "      <th>trestbps</th>\n",
              "      <th>chol</th>\n",
              "      <th>fbs</th>\n",
              "      <th>resetecg</th>\n",
              "      <th>thalach</th>\n",
              "      <th>exang</th>\n",
              "      <th>slope</th>\n",
              "      <th>num</th>\n",
              "    </tr>\n",
              "    <tr>\n",
              "      <th>Sex</th>\n",
              "      <th></th>\n",
              "      <th></th>\n",
              "      <th></th>\n",
              "      <th></th>\n",
              "      <th></th>\n",
              "      <th></th>\n",
              "      <th></th>\n",
              "      <th></th>\n",
              "      <th></th>\n",
              "      <th></th>\n",
              "      <th></th>\n",
              "    </tr>\n",
              "  </thead>\n",
              "  <tbody>\n",
              "    <tr>\n",
              "      <th>0.0</th>\n",
              "      <td>161.030928</td>\n",
              "      <td>55.721649</td>\n",
              "      <td>3.144330</td>\n",
              "      <td>133.340206</td>\n",
              "      <td>261.752577</td>\n",
              "      <td>0.123711</td>\n",
              "      <td>0.958763</td>\n",
              "      <td>151.226804</td>\n",
              "      <td>0.226804</td>\n",
              "      <td>1.567010</td>\n",
              "      <td>0.536082</td>\n",
              "    </tr>\n",
              "    <tr>\n",
              "      <th>1.0</th>\n",
              "      <td>147.747573</td>\n",
              "      <td>53.834951</td>\n",
              "      <td>3.165049</td>\n",
              "      <td>130.912621</td>\n",
              "      <td>239.601942</td>\n",
              "      <td>0.160194</td>\n",
              "      <td>1.004854</td>\n",
              "      <td>148.844660</td>\n",
              "      <td>0.373786</td>\n",
              "      <td>1.616505</td>\n",
              "      <td>1.126214</td>\n",
              "    </tr>\n",
              "  </tbody>\n",
              "</table>\n",
              "</div>"
            ],
            "text/plain": [
              "             id        Age        cp  ...     exang     slope       num\n",
              "Sex                                   ...                              \n",
              "0.0  161.030928  55.721649  3.144330  ...  0.226804  1.567010  0.536082\n",
              "1.0  147.747573  53.834951  3.165049  ...  0.373786  1.616505  1.126214\n",
              "\n",
              "[2 rows x 11 columns]"
            ]
          },
          "metadata": {
            "tags": []
          },
          "execution_count": 60
        }
      ]
    },
    {
      "cell_type": "markdown",
      "metadata": {
        "id": "m9eHo3FU6l4_"
      },
      "source": [
        "Hence, females have higher cholesterol level than males.\n",
        "\n",
        "**Answer is TRUE**"
      ]
    },
    {
      "cell_type": "markdown",
      "metadata": {
        "id": "6yjfLIzg62Nl"
      },
      "source": [
        "**Answer 4. c.**"
      ]
    },
    {
      "cell_type": "code",
      "metadata": {
        "id": "-mbFcSX27JZ0",
        "colab": {
          "base_uri": "https://localhost:8080/",
          "height": 35
        },
        "outputId": "7e745282-d95b-4534-c759-2ae3272f5614"
      },
      "source": [
        "# calculate Pearson's correlation\n",
        "\n",
        "corr, _ = pearsonr(df['fbs'], df['chol'])\n",
        "print('Pearson correlation coefficient: %.3f' % corr)"
      ],
      "execution_count": null,
      "outputs": [
        {
          "output_type": "stream",
          "text": [
            "Pearson correlation coefficient: 0.010\n"
          ],
          "name": "stdout"
        }
      ]
    },
    {
      "cell_type": "markdown",
      "metadata": {
        "id": "PzDi-7FY7QRA"
      },
      "source": [
        "There is no correlation.\n",
        "\n",
        "**Answer is FALSE**"
      ]
    },
    {
      "cell_type": "markdown",
      "metadata": {
        "id": "iv6Exj057gLK"
      },
      "source": [
        "**Answer 4. d.**"
      ]
    },
    {
      "cell_type": "code",
      "metadata": {
        "id": "WpMy_X-a7x52",
        "colab": {
          "base_uri": "https://localhost:8080/",
          "height": 35
        },
        "outputId": "df0334e5-2367-4236-9aaf-c0783db26723"
      },
      "source": [
        "# calculate Pearson's correlation\n",
        "\n",
        "corr, _ = pearsonr(df['trestbps'], df['chol'])\n",
        "print('Pearson correlation coefficient: %.3f' % corr)"
      ],
      "execution_count": null,
      "outputs": [
        {
          "output_type": "stream",
          "text": [
            "Pearson correlation coefficient: 0.130\n"
          ],
          "name": "stdout"
        }
      ]
    },
    {
      "cell_type": "markdown",
      "metadata": {
        "id": "7JvhpVdM70_N"
      },
      "source": [
        "No correlation. \n",
        "\n",
        "**Answer is FALSE**"
      ]
    },
    {
      "cell_type": "markdown",
      "metadata": {
        "id": "7ykfaXsfHanN"
      },
      "source": [
        "**Answer Q2**"
      ]
    },
    {
      "cell_type": "markdown",
      "metadata": {
        "id": "NQsJJdYXA5uz"
      },
      "source": [
        "\n",
        "1)\n",
        "\n",
        "There are two significant predictors of these models: \n",
        "**Trestbps (p-value = 0.025) and Sex ( also p-value = 0.025)** \n",
        "\n",
        "That means that for these two predictors , there is a low chance for mistake in properly predicting the predicted variable in this model. It implies that the predictor variables are correlated with the dependent variables.\n",
        "\n",
        "Also it is noted that the coefficients of the predictor variables are positive i.e. 2.82 and 2.37 respectively which implies that with the increase in the values of the predictors, the mean of the dependent variable increases.\n",
        "\n",
        "\n",
        "\n",
        "\n",
        "\n",
        "\n",
        "\n",
        "\n"
      ]
    },
    {
      "cell_type": "markdown",
      "metadata": {
        "id": "r1l_-Su6IifC"
      },
      "source": [
        "2)\n",
        "\n",
        "Please look in the attached pdf"
      ]
    },
    {
      "cell_type": "markdown",
      "metadata": {
        "id": "VRJ7CESXIXd5"
      },
      "source": [
        "\n",
        "3)\n",
        "\n",
        "I’d tell him that both Sex and Trestbps are good predictors to give rather  accurate prediction for the predicted variable, unlike chol( cholesterol) which is a non-significant predictor.\n",
        "I’d also tell him that if the chol variable would have been removed we’d may be get  a better prediction of the predicted variable.  \n",
        "\n",
        "Also we can observe that the constant intercept is not significant as well. Hence, it can also be removed from the model to further increase the prediction capacity of the model."
      ]
    }
  ]
}