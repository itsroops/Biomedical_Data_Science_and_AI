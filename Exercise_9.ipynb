{
  "nbformat": 4,
  "nbformat_minor": 0,
  "metadata": {
    "colab": {
      "name": "Guha Neogi_Elsayed_Islam_Sheet9.ipynb",
      "provenance": [],
      "collapsed_sections": []
    },
    "kernelspec": {
      "name": "python3",
      "display_name": "Python 3"
    }
  },
  "cells": [
    {
      "cell_type": "markdown",
      "metadata": {
        "id": "xrprLbvVK-5z"
      },
      "source": [
        "**Answer to 1.1. a)**"
      ]
    },
    {
      "cell_type": "markdown",
      "metadata": {
        "id": "1SEDZ1g5LE8c"
      },
      "source": [
        "I would argue that a flexible statistical learning method would be **better** than an inflexible method. The reasons are as follows:\n",
        "\n",
        "*   The large sample size would reduce the variance of error and hence during training the small changes in data shouldn't have much effect. \n",
        "\n",
        "*   The computational cost to build a flexible method is less due to less number of predictors. "
      ]
    },
    {
      "cell_type": "markdown",
      "metadata": {
        "id": "eHpXWPn6LGhc"
      },
      "source": [
        "**Answer to 1.1. b)**"
      ]
    },
    {
      "cell_type": "markdown",
      "metadata": {
        "id": "Dy4VgFOjLGwR"
      },
      "source": [
        "I would argue that a flexible statistical learning method would be **worse** than an inflexible method. The reasons are as follows:\n",
        "\n",
        "*   The computational cost to build a flexible method is high due to large number of predictors. \n",
        "\n",
        "*   The small sample size would increase the variance of error and hence during training the small changes in data would have a large effect if we use a flexible method, as flexible methods have a higher variance than inflexible ones.\n",
        "\n"
      ]
    },
    {
      "cell_type": "markdown",
      "metadata": {
        "id": "Q0kzWD3iLGya"
      },
      "source": [
        "**Answer to 1.1. c)**"
      ]
    },
    {
      "cell_type": "markdown",
      "metadata": {
        "id": "tFd4FNQ_LG2d"
      },
      "source": [
        "I would argue that a flexible statistical learning method would be **better** than an inflexible method. The reason is as follows:\n",
        "\n",
        "*   An increased flexibility of the model would allow the method to better capture the non-linearity of the relationship and reduce the bias, or error that is an ingerent part of a real-life problem.\n",
        "\n",
        "*   On the other hand, an inflexible method would have an increased bias and error and hence would not perform well."
      ]
    },
    {
      "cell_type": "markdown",
      "metadata": {
        "id": "6zi9J7ZzLG44"
      },
      "source": [
        "**Answer to 1.1. d)**"
      ]
    },
    {
      "cell_type": "markdown",
      "metadata": {
        "id": "L8BnskTULG8N"
      },
      "source": [
        "I would argue that a flexible statistical learning method would be **worse** than an inflexible method. The reasons are as follows:\n",
        "\n",
        "*    A flexible method would fit the noise related to the high variance and would result in the degradation of its performance.\n",
        "\n",
        "*    In order to minimize the risk of initially overfitting the data, it would be better to start of with a less-flexible and computationally less-costly method.\n"
      ]
    },
    {
      "cell_type": "markdown",
      "metadata": {
        "id": "7L76aQ58Q8iv"
      },
      "source": [
        "**Answer to 1.2. a)**"
      ]
    },
    {
      "cell_type": "markdown",
      "metadata": {
        "id": "2Ib-QyJmVCID"
      },
      "source": [
        "As we increase s from 0, the training RSS will **steadily decrease**. The reason is as follows:\n",
        "\n",
        "As 's' increases, the ℓ1 penalty budget increases, creating less restriction. In other words, the coefficients are less restricted and they increase to their least square estimate values. This essentially implies that the model is becoming more and more flexible which is  going to shrink the RSS until it eventually yields the least squares solution."
      ]
    },
    {
      "cell_type": "markdown",
      "metadata": {
        "id": "lvPPCgM_WxUC"
      },
      "source": [
        "**Answer to 1.2. b)**"
      ]
    },
    {
      "cell_type": "markdown",
      "metadata": {
        "id": "1DYDPa_iW0B3"
      },
      "source": [
        "As we increase s from 0, the test RSS will **decrease initially, and then eventually start increasing in a U shape.** The reason is as follows:\n",
        "\n",
        "When s=0, it implies that all Bj =0 and the model is very simple with high test RSS. As s increases from 0, the coefficients are less restricted and they increase to their least square estimate values. Consequently, the model begins fitting well on test data and the test RSS decreases before increasing (overfitting to the training data) again in the typical U shape."
      ]
    },
    {
      "cell_type": "markdown",
      "metadata": {
        "id": "2DfVHdNAacId"
      },
      "source": [
        "**Answer to 2**"
      ]
    },
    {
      "cell_type": "code",
      "metadata": {
        "id": "M7-JeyWxbD8n",
        "colab": {
          "base_uri": "https://localhost:8080/",
          "height": 129
        },
        "outputId": "5d231d22-1030-44aa-a858-379d1f6ae306"
      },
      "source": [
        "# Mounting the Google Drive for accessing the dataset\n",
        "from google.colab import drive\n",
        "drive.mount('/content/drive')"
      ],
      "execution_count": null,
      "outputs": [
        {
          "output_type": "stream",
          "text": [
            "Go to this URL in a browser: https://accounts.google.com/o/oauth2/auth?client_id=947318989803-6bn6qk8qdgf4n4g3pfee6491hc0brc4i.apps.googleusercontent.com&redirect_uri=urn%3aietf%3awg%3aoauth%3a2.0%3aoob&response_type=code&scope=email%20https%3a%2f%2fwww.googleapis.com%2fauth%2fdocs.test%20https%3a%2f%2fwww.googleapis.com%2fauth%2fdrive%20https%3a%2f%2fwww.googleapis.com%2fauth%2fdrive.photos.readonly%20https%3a%2f%2fwww.googleapis.com%2fauth%2fpeopleapi.readonly\n",
            "\n",
            "Enter your authorization code:\n",
            "··········\n",
            "Mounted at /content/drive\n"
          ],
          "name": "stdout"
        }
      ]
    },
    {
      "cell_type": "code",
      "metadata": {
        "id": "WZm5zTxNbiLm",
        "colab": {
          "base_uri": "https://localhost:8080/",
          "height": 164
        },
        "outputId": "efc37e6a-d9cf-4c7f-ee85-4b25198ac26c"
      },
      "source": [
        "# Importing the necessary package to read the dataset\n",
        "import pandas as pd\n",
        "\n",
        "# Reading the content of the datasets to a dataframe\n",
        "df = pd.read_csv(\"/content/drive/My Drive/Colab Notebooks/Data Files/leukemia_small.csv\")\n",
        "\n",
        "print(df.head(5))"
      ],
      "execution_count": null,
      "outputs": [
        {
          "output_type": "stream",
          "text": [
            "        ALL     ALL.1     ALL.2  ...    ALL.44    ALL.45    ALL.46\n",
            "0  0.561549 -0.623141 -0.814524  ...  0.013516 -0.353390 -0.525819\n",
            "1  0.213566 -0.912107 -1.084069  ...  1.817207  0.063489  1.362307\n",
            "2 -0.636584 -0.465296 -0.583127  ...  0.172399 -0.195105 -0.367815\n",
            "3  0.347124 -0.734345  1.785912  ...  0.429806 -0.101432 -0.922238\n",
            "4  0.545509 -0.539898  1.445064  ... -0.508952  0.414814 -0.900327\n",
            "\n",
            "[5 rows x 72 columns]\n"
          ],
          "name": "stdout"
        }
      ]
    },
    {
      "cell_type": "code",
      "metadata": {
        "id": "EDf0xl4YdyDv",
        "colab": {
          "base_uri": "https://localhost:8080/",
          "height": 35
        },
        "outputId": "fc39ddb7-2e9f-4418-c86a-4775316c650e"
      },
      "source": [
        "# Extracting the class labels\n",
        "class_labels = df.columns.to_list()\n",
        "cl = []\n",
        "for i in class_labels:\n",
        "  cl.append(i[0:3])\n",
        "\n",
        "myset = set(cl)\n",
        "print(myset)\n"
      ],
      "execution_count": null,
      "outputs": [
        {
          "output_type": "stream",
          "text": [
            "{'ALL', 'AML'}\n"
          ],
          "name": "stdout"
        }
      ]
    },
    {
      "cell_type": "code",
      "metadata": {
        "id": "0j4Lyl2x_ztK",
        "colab": {
          "base_uri": "https://localhost:8080/",
          "height": 164
        },
        "outputId": "be3eccbd-35fc-4d97-e2f9-efa83f251696"
      },
      "source": [
        "# Renaming the columns as 0 for ALL and 1 for AML\n",
        "my_dict={}\n",
        "\n",
        "for index,column_name in enumerate(df.columns):\n",
        "  if column_name[0:3] == 'ALL':\n",
        "    my_dict[column_name] = 0\n",
        "  elif column_name[0:3] == 'AML':\n",
        "    my_dict[column_name] = 1\n",
        "\n",
        "df = df.rename(columns=my_dict)\n",
        "\n",
        "print(df.head(5))"
      ],
      "execution_count": null,
      "outputs": [
        {
          "output_type": "stream",
          "text": [
            "          0         0         0  ...         0         0         0\n",
            "0  0.561549 -0.623141 -0.814524  ...  0.013516 -0.353390 -0.525819\n",
            "1  0.213566 -0.912107 -1.084069  ...  1.817207  0.063489  1.362307\n",
            "2 -0.636584 -0.465296 -0.583127  ...  0.172399 -0.195105 -0.367815\n",
            "3  0.347124 -0.734345  1.785912  ...  0.429806 -0.101432 -0.922238\n",
            "4  0.545509 -0.539898  1.445064  ... -0.508952  0.414814 -0.900327\n",
            "\n",
            "[5 rows x 72 columns]\n"
          ],
          "name": "stdout"
        }
      ]
    },
    {
      "cell_type": "code",
      "metadata": {
        "id": "T7MhwFPZumsj",
        "colab": {
          "base_uri": "https://localhost:8080/",
          "height": 35
        },
        "outputId": "077e4f2d-bb30-47cc-a4da-e2cac6025bd4"
      },
      "source": [
        "# Organizing the dataset into predictors and response variables\n",
        "# Each Column is patient with its associated target class and each row is predictor\n",
        "# Transposing the original dataset and adding an extra column target class to the dataset\n",
        "\n",
        "df = df.T\n",
        "y = df.index.to_list()\n",
        "df['Target'] = y\n",
        "\n",
        "# Dividing the predictor dataframe and target dataframe\n",
        "X = df.loc[:, df.columns != 'Target'] \n",
        "y = df['Target']\n",
        "df.shape"
      ],
      "execution_count": null,
      "outputs": [
        {
          "output_type": "execute_result",
          "data": {
            "text/plain": [
              "(72, 3572)"
            ]
          },
          "metadata": {
            "tags": []
          },
          "execution_count": 321
        }
      ]
    },
    {
      "cell_type": "code",
      "metadata": {
        "id": "Xm51N3Qya8KU"
      },
      "source": [
        "# Importing the necessary packages\n",
        "\n",
        "import matplotlib.pyplot as plt\n",
        "import pandas as pd\n",
        "from sklearn.linear_model import LogisticRegression\n",
        "from sklearn.metrics import accuracy_score\n",
        "from sklearn.model_selection import train_test_split\n",
        "from sklearn.neighbors import KNeighborsClassifier\n"
      ],
      "execution_count": null,
      "outputs": []
    },
    {
      "cell_type": "code",
      "metadata": {
        "id": "5Oaq_f4bhxUu"
      },
      "source": [
        "# Randomly splitting the data into training and testing with a ratio of 7:3\n",
        "\n",
        "X_train, X_test, y_train, y_test = train_test_split(X, y, train_size=0.7, test_size=0.3, random_state = 1)\n"
      ],
      "execution_count": null,
      "outputs": []
    },
    {
      "cell_type": "markdown",
      "metadata": {
        "id": "YMqYKpLahE9P"
      },
      "source": [
        "**2.a.**"
      ]
    },
    {
      "cell_type": "code",
      "metadata": {
        "id": "QIlfcEzxhIHY",
        "colab": {
          "base_uri": "https://localhost:8080/",
          "height": 109
        },
        "outputId": "5b956498-bbbc-45fa-c59c-6ecc5f419364"
      },
      "source": [
        "# Fitting a logistic regression with no penalization\n",
        "clf = LogisticRegression(penalty='none',solver='lbfgs',random_state=1).fit(X_train,y_train)\n",
        "print(clf)"
      ],
      "execution_count": null,
      "outputs": [
        {
          "output_type": "stream",
          "text": [
            "LogisticRegression(C=1.0, class_weight=None, dual=False, fit_intercept=True,\n",
            "                   intercept_scaling=1, l1_ratio=None, max_iter=100,\n",
            "                   multi_class='auto', n_jobs=None, penalty='none',\n",
            "                   random_state=1, solver='lbfgs', tol=0.0001, verbose=0,\n",
            "                   warm_start=False)\n"
          ],
          "name": "stdout"
        }
      ]
    },
    {
      "cell_type": "markdown",
      "metadata": {
        "id": "QS2yhATThJVZ"
      },
      "source": [
        "**2.b.**"
      ]
    },
    {
      "cell_type": "code",
      "metadata": {
        "id": "UmTEBAN08Agj",
        "colab": {
          "base_uri": "https://localhost:8080/",
          "height": 119
        },
        "outputId": "1e23404a-d4db-4562-928d-575d243a3e5e"
      },
      "source": [
        "# @TL test\n",
        "c = 10000\n",
        "for i in range(0,6):\n",
        "  c = c/10\n",
        "  lambd = 1/c\n",
        "  print(\"c = %f, lambda = %f\" %(c, lambd))\n"
      ],
      "execution_count": null,
      "outputs": [
        {
          "output_type": "stream",
          "text": [
            "c = 1000.000000, lambda = 0.001000\n",
            "c = 100.000000, lambda = 0.010000\n",
            "c = 10.000000, lambda = 0.100000\n",
            "c = 1.000000, lambda = 1.000000\n",
            "c = 0.100000, lambda = 10.000000\n",
            "c = 0.010000, lambda = 100.000000\n"
          ],
          "name": "stdout"
        }
      ]
    },
    {
      "cell_type": "code",
      "metadata": {
        "id": "BcjVKlm-hLp3",
        "colab": {
          "base_uri": "https://localhost:8080/",
          "height": 476
        },
        "outputId": "aa1fc3d2-98cd-4f78-a34e-9ec19faadc7c"
      },
      "source": [
        "# Fitting a l1 penalized logistic regression with different lambda values\n",
        "# We use liblinear solver for better accuracy\n",
        "# Here lambda = 1 / C\n",
        "\n",
        "c = 10000\n",
        "\n",
        "# Initializing the \n",
        "clf_l1 = []\n",
        "\n",
        "for i in range(0,6):\n",
        "  c = c/10\n",
        "  clf_l1.append(LogisticRegression(penalty='l1',C=c,solver='liblinear',random_state=1).fit(X_train,y_train))\n",
        "\n",
        "print(clf_l1)"
      ],
      "execution_count": null,
      "outputs": [
        {
          "output_type": "stream",
          "text": [
            "[LogisticRegression(C=1000.0, class_weight=None, dual=False, fit_intercept=True,\n",
            "                   intercept_scaling=1, l1_ratio=None, max_iter=100,\n",
            "                   multi_class='auto', n_jobs=None, penalty='l1',\n",
            "                   random_state=1, solver='liblinear', tol=0.0001, verbose=0,\n",
            "                   warm_start=False), LogisticRegression(C=100.0, class_weight=None, dual=False, fit_intercept=True,\n",
            "                   intercept_scaling=1, l1_ratio=None, max_iter=100,\n",
            "                   multi_class='auto', n_jobs=None, penalty='l1',\n",
            "                   random_state=1, solver='liblinear', tol=0.0001, verbose=0,\n",
            "                   warm_start=False), LogisticRegression(C=10.0, class_weight=None, dual=False, fit_intercept=True,\n",
            "                   intercept_scaling=1, l1_ratio=None, max_iter=100,\n",
            "                   multi_class='auto', n_jobs=None, penalty='l1',\n",
            "                   random_state=1, solver='liblinear', tol=0.0001, verbose=0,\n",
            "                   warm_start=False), LogisticRegression(C=1.0, class_weight=None, dual=False, fit_intercept=True,\n",
            "                   intercept_scaling=1, l1_ratio=None, max_iter=100,\n",
            "                   multi_class='auto', n_jobs=None, penalty='l1',\n",
            "                   random_state=1, solver='liblinear', tol=0.0001, verbose=0,\n",
            "                   warm_start=False), LogisticRegression(C=0.1, class_weight=None, dual=False, fit_intercept=True,\n",
            "                   intercept_scaling=1, l1_ratio=None, max_iter=100,\n",
            "                   multi_class='auto', n_jobs=None, penalty='l1',\n",
            "                   random_state=1, solver='liblinear', tol=0.0001, verbose=0,\n",
            "                   warm_start=False), LogisticRegression(C=0.01, class_weight=None, dual=False, fit_intercept=True,\n",
            "                   intercept_scaling=1, l1_ratio=None, max_iter=100,\n",
            "                   multi_class='auto', n_jobs=None, penalty='l1',\n",
            "                   random_state=1, solver='liblinear', tol=0.0001, verbose=0,\n",
            "                   warm_start=False)]\n"
          ],
          "name": "stdout"
        }
      ]
    },
    {
      "cell_type": "markdown",
      "metadata": {
        "id": "tr-WSjcvk3ac"
      },
      "source": [
        "**2.c.**"
      ]
    },
    {
      "cell_type": "code",
      "metadata": {
        "id": "0KxPVTPHk1gk",
        "colab": {
          "base_uri": "https://localhost:8080/",
          "height": 476
        },
        "outputId": "c4b54ff5-d508-4f1a-92b0-1242d863055f"
      },
      "source": [
        "# Fitting a l2 penalized logistic regression with different lambda values\n",
        "# We use newton-cg solver for better accuracy\n",
        "# Here lambda = 1 / C\n",
        "\n",
        "c = 10000\n",
        "\n",
        "# Initializing the \n",
        "clf_l2 = []\n",
        "\n",
        "for i in range(0,6):\n",
        "  c = c/10\n",
        "  clf_l2.append(LogisticRegression(penalty='l2',C=c,solver='newton-cg',random_state=1).fit(X_train,y_train))\n",
        "\n",
        "print(clf_l2)"
      ],
      "execution_count": null,
      "outputs": [
        {
          "output_type": "stream",
          "text": [
            "[LogisticRegression(C=1000.0, class_weight=None, dual=False, fit_intercept=True,\n",
            "                   intercept_scaling=1, l1_ratio=None, max_iter=100,\n",
            "                   multi_class='auto', n_jobs=None, penalty='l2',\n",
            "                   random_state=1, solver='newton-cg', tol=0.0001, verbose=0,\n",
            "                   warm_start=False), LogisticRegression(C=100.0, class_weight=None, dual=False, fit_intercept=True,\n",
            "                   intercept_scaling=1, l1_ratio=None, max_iter=100,\n",
            "                   multi_class='auto', n_jobs=None, penalty='l2',\n",
            "                   random_state=1, solver='newton-cg', tol=0.0001, verbose=0,\n",
            "                   warm_start=False), LogisticRegression(C=10.0, class_weight=None, dual=False, fit_intercept=True,\n",
            "                   intercept_scaling=1, l1_ratio=None, max_iter=100,\n",
            "                   multi_class='auto', n_jobs=None, penalty='l2',\n",
            "                   random_state=1, solver='newton-cg', tol=0.0001, verbose=0,\n",
            "                   warm_start=False), LogisticRegression(C=1.0, class_weight=None, dual=False, fit_intercept=True,\n",
            "                   intercept_scaling=1, l1_ratio=None, max_iter=100,\n",
            "                   multi_class='auto', n_jobs=None, penalty='l2',\n",
            "                   random_state=1, solver='newton-cg', tol=0.0001, verbose=0,\n",
            "                   warm_start=False), LogisticRegression(C=0.1, class_weight=None, dual=False, fit_intercept=True,\n",
            "                   intercept_scaling=1, l1_ratio=None, max_iter=100,\n",
            "                   multi_class='auto', n_jobs=None, penalty='l2',\n",
            "                   random_state=1, solver='newton-cg', tol=0.0001, verbose=0,\n",
            "                   warm_start=False), LogisticRegression(C=0.01, class_weight=None, dual=False, fit_intercept=True,\n",
            "                   intercept_scaling=1, l1_ratio=None, max_iter=100,\n",
            "                   multi_class='auto', n_jobs=None, penalty='l2',\n",
            "                   random_state=1, solver='newton-cg', tol=0.0001, verbose=0,\n",
            "                   warm_start=False)]\n"
          ],
          "name": "stdout"
        }
      ]
    },
    {
      "cell_type": "markdown",
      "metadata": {
        "id": "QDVBI3YNoI82"
      },
      "source": [
        "**2.d.**"
      ]
    },
    {
      "cell_type": "code",
      "metadata": {
        "id": "5KjAvc05gbxU",
        "colab": {
          "base_uri": "https://localhost:8080/",
          "height": 844
        },
        "outputId": "93d638a8-6606-42ba-8c60-1d744f074a37"
      },
      "source": [
        "# Fitting a elasticnet-penalized logistic regression with different l1_ratio values\n",
        "# We use saga solver for better accuracy\n",
        "\n",
        "clf_elasticnet =[]\n",
        "\n",
        "for l1_rat in 0.01, 0.1, 0.2, 0.3, 0.4, 0.5, 0.6,0.7, 0.8, 0.9, 0.99:\n",
        "    clf_elasticnet.append(LogisticRegression(penalty='elasticnet',solver='saga',l1_ratio=l1_rat,random_state=1,max_iter=6000).fit(X_train,y_train))\n",
        "\n",
        "print(clf_elasticnet)"
      ],
      "execution_count": null,
      "outputs": [
        {
          "output_type": "stream",
          "text": [
            "[LogisticRegression(C=1.0, class_weight=None, dual=False, fit_intercept=True,\n",
            "                   intercept_scaling=1, l1_ratio=0.01, max_iter=6000,\n",
            "                   multi_class='auto', n_jobs=None, penalty='elasticnet',\n",
            "                   random_state=1, solver='saga', tol=0.0001, verbose=0,\n",
            "                   warm_start=False), LogisticRegression(C=1.0, class_weight=None, dual=False, fit_intercept=True,\n",
            "                   intercept_scaling=1, l1_ratio=0.1, max_iter=6000,\n",
            "                   multi_class='auto', n_jobs=None, penalty='elasticnet',\n",
            "                   random_state=1, solver='saga', tol=0.0001, verbose=0,\n",
            "                   warm_start=False), LogisticRegression(C=1.0, class_weight=None, dual=False, fit_intercept=True,\n",
            "                   intercept_scaling=1, l1_ratio=0.2, max_iter=6000,\n",
            "                   multi_class='auto', n_jobs=None, penalty='elasticnet',\n",
            "                   random_state=1, solver='saga', tol=0.0001, verbose=0,\n",
            "                   warm_start=False), LogisticRegression(C=1.0, class_weight=None, dual=False, fit_intercept=True,\n",
            "                   intercept_scaling=1, l1_ratio=0.3, max_iter=6000,\n",
            "                   multi_class='auto', n_jobs=None, penalty='elasticnet',\n",
            "                   random_state=1, solver='saga', tol=0.0001, verbose=0,\n",
            "                   warm_start=False), LogisticRegression(C=1.0, class_weight=None, dual=False, fit_intercept=True,\n",
            "                   intercept_scaling=1, l1_ratio=0.4, max_iter=6000,\n",
            "                   multi_class='auto', n_jobs=None, penalty='elasticnet',\n",
            "                   random_state=1, solver='saga', tol=0.0001, verbose=0,\n",
            "                   warm_start=False), LogisticRegression(C=1.0, class_weight=None, dual=False, fit_intercept=True,\n",
            "                   intercept_scaling=1, l1_ratio=0.5, max_iter=6000,\n",
            "                   multi_class='auto', n_jobs=None, penalty='elasticnet',\n",
            "                   random_state=1, solver='saga', tol=0.0001, verbose=0,\n",
            "                   warm_start=False), LogisticRegression(C=1.0, class_weight=None, dual=False, fit_intercept=True,\n",
            "                   intercept_scaling=1, l1_ratio=0.6, max_iter=6000,\n",
            "                   multi_class='auto', n_jobs=None, penalty='elasticnet',\n",
            "                   random_state=1, solver='saga', tol=0.0001, verbose=0,\n",
            "                   warm_start=False), LogisticRegression(C=1.0, class_weight=None, dual=False, fit_intercept=True,\n",
            "                   intercept_scaling=1, l1_ratio=0.7, max_iter=6000,\n",
            "                   multi_class='auto', n_jobs=None, penalty='elasticnet',\n",
            "                   random_state=1, solver='saga', tol=0.0001, verbose=0,\n",
            "                   warm_start=False), LogisticRegression(C=1.0, class_weight=None, dual=False, fit_intercept=True,\n",
            "                   intercept_scaling=1, l1_ratio=0.8, max_iter=6000,\n",
            "                   multi_class='auto', n_jobs=None, penalty='elasticnet',\n",
            "                   random_state=1, solver='saga', tol=0.0001, verbose=0,\n",
            "                   warm_start=False), LogisticRegression(C=1.0, class_weight=None, dual=False, fit_intercept=True,\n",
            "                   intercept_scaling=1, l1_ratio=0.9, max_iter=6000,\n",
            "                   multi_class='auto', n_jobs=None, penalty='elasticnet',\n",
            "                   random_state=1, solver='saga', tol=0.0001, verbose=0,\n",
            "                   warm_start=False), LogisticRegression(C=1.0, class_weight=None, dual=False, fit_intercept=True,\n",
            "                   intercept_scaling=1, l1_ratio=0.99, max_iter=6000,\n",
            "                   multi_class='auto', n_jobs=None, penalty='elasticnet',\n",
            "                   random_state=1, solver='saga', tol=0.0001, verbose=0,\n",
            "                   warm_start=False)]\n"
          ],
          "name": "stdout"
        }
      ]
    },
    {
      "cell_type": "markdown",
      "metadata": {
        "id": "DWBAaM-OlLhP"
      },
      "source": [
        "**2.e.**"
      ]
    },
    {
      "cell_type": "code",
      "metadata": {
        "id": "MVjuQOwplNg8",
        "colab": {
          "base_uri": "https://localhost:8080/",
          "height": 256
        },
        "outputId": "b431e9fc-42c5-47cf-c976-c890af4216dc"
      },
      "source": [
        "# Fitting kNN classifiers with different nearest neighbour values\n",
        "\n",
        "clf_kNN =[]\n",
        "\n",
        "for n in 1, 2, 3, 4, 5, 10:\n",
        "  clf_kNN.append(KNeighborsClassifier(n_neighbors=n, p=2, metric=\"euclidean\").fit(X_train,y_train))\n",
        "\n",
        "print(clf_kNN)"
      ],
      "execution_count": null,
      "outputs": [
        {
          "output_type": "stream",
          "text": [
            "[KNeighborsClassifier(algorithm='auto', leaf_size=30, metric='euclidean',\n",
            "                     metric_params=None, n_jobs=None, n_neighbors=1, p=2,\n",
            "                     weights='uniform'), KNeighborsClassifier(algorithm='auto', leaf_size=30, metric='euclidean',\n",
            "                     metric_params=None, n_jobs=None, n_neighbors=2, p=2,\n",
            "                     weights='uniform'), KNeighborsClassifier(algorithm='auto', leaf_size=30, metric='euclidean',\n",
            "                     metric_params=None, n_jobs=None, n_neighbors=3, p=2,\n",
            "                     weights='uniform'), KNeighborsClassifier(algorithm='auto', leaf_size=30, metric='euclidean',\n",
            "                     metric_params=None, n_jobs=None, n_neighbors=4, p=2,\n",
            "                     weights='uniform'), KNeighborsClassifier(algorithm='auto', leaf_size=30, metric='euclidean',\n",
            "                     metric_params=None, n_jobs=None, n_neighbors=5, p=2,\n",
            "                     weights='uniform'), KNeighborsClassifier(algorithm='auto', leaf_size=30, metric='euclidean',\n",
            "                     metric_params=None, n_jobs=None, n_neighbors=10, p=2,\n",
            "                     weights='uniform')]\n"
          ],
          "name": "stdout"
        }
      ]
    },
    {
      "cell_type": "markdown",
      "metadata": {
        "id": "m_zEEkaklYBE"
      },
      "source": [
        "**2.f.**"
      ]
    },
    {
      "cell_type": "code",
      "metadata": {
        "id": "sciqC0krs3RV",
        "colab": {
          "base_uri": "https://localhost:8080/",
          "height": 54
        },
        "outputId": "6dd55201-97f3-49bf-c93e-03ef78204c04"
      },
      "source": [
        "# Performace score for logistic regression with no penalization\n",
        "\n",
        "k = clf.predict(X_train)\n",
        "k2 = clf.predict(X_test)\n",
        "accuracy_no_regularization_train = accuracy_score(y_train,k)\n",
        "accuracy_no_regularization_test = accuracy_score(y_test,k2)\n",
        "\n",
        "print(\"The accuracy score without regularization for the training dataset is \" + str(accuracy_no_regularization_train))\n",
        "print(\"The accuracy score without regularization for the test dataset is \" + str(accuracy_no_regularization_test))"
      ],
      "execution_count": null,
      "outputs": [
        {
          "output_type": "stream",
          "text": [
            "The accuracy score without regularization for the training dataset is 1.0\n",
            "The accuracy score without regularization for the test dataset is 0.8636363636363636\n"
          ],
          "name": "stdout"
        }
      ]
    },
    {
      "cell_type": "code",
      "metadata": {
        "id": "AQvlCjBPshCz",
        "colab": {
          "base_uri": "https://localhost:8080/",
          "height": 329
        },
        "outputId": "77b6e625-a6cb-44f8-ca23-c6ffd3533ac4"
      },
      "source": [
        "# Performace score for l1-penalized logistic regression having the given lambda values\n",
        "\n",
        "accuracy_l1_train, accuracy_l1_test = [], []\n",
        "\n",
        "for model in clf_l1:\n",
        "  k = model.predict(X_train)\n",
        "  k2 = model.predict(X_test)\n",
        "  accuracy_l1_train.append(accuracy_score(y_train,k))\n",
        "  accuracy_l1_test.append(accuracy_score(y_test,k2))\n",
        "\n",
        "c=0\n",
        "print(\"The accuracy score with l1 regularization for the training dataset is as follows:\\n\")\n",
        "for i in 0.001, 0.01, 0.1, 1, 10, 100:\n",
        "  print(\"For lambda = \"+str(i)+\", Accuracy score = \"+str(accuracy_l1_train[c]))\n",
        "  c = c+1\n",
        "\n",
        "c=0\n",
        "print(\"\\nThe accuracy score with l1 regularization for the test dataset is as follows:\\n\")\n",
        "for i in 0.001, 0.01, 0.1, 1, 10, 100:\n",
        "  print(\"For lambda = \"+str(i)+\", Accuracy score = \"+str(accuracy_l1_test[c]))\n",
        "  c = c+1"
      ],
      "execution_count": null,
      "outputs": [
        {
          "output_type": "stream",
          "text": [
            "The accuracy score with l1 regularization for the training dataset is as follows:\n",
            "\n",
            "For lambda = 0.001, Accuracy score = 1.0\n",
            "For lambda = 0.01, Accuracy score = 1.0\n",
            "For lambda = 0.1, Accuracy score = 1.0\n",
            "For lambda = 1, Accuracy score = 1.0\n",
            "For lambda = 10, Accuracy score = 1.0\n",
            "For lambda = 100, Accuracy score = 0.66\n",
            "\n",
            "The accuracy score with l1 regularization for the test dataset is as follows:\n",
            "\n",
            "For lambda = 0.001, Accuracy score = 0.9090909090909091\n",
            "For lambda = 0.01, Accuracy score = 0.9545454545454546\n",
            "For lambda = 0.1, Accuracy score = 0.9545454545454546\n",
            "For lambda = 1, Accuracy score = 0.9545454545454546\n",
            "For lambda = 10, Accuracy score = 0.9545454545454546\n",
            "For lambda = 100, Accuracy score = 0.6363636363636364\n"
          ],
          "name": "stdout"
        }
      ]
    },
    {
      "cell_type": "code",
      "metadata": {
        "id": "EkxCs_QXuiG9",
        "colab": {
          "base_uri": "https://localhost:8080/",
          "height": 329
        },
        "outputId": "9d63abe2-0e05-4397-fcf8-a5d4d5a4c171"
      },
      "source": [
        "# Performace score for l2-penalized logistic regression having the given lambda values\n",
        "\n",
        "accuracy_l2_train, accuracy_l2_test = [], []\n",
        "\n",
        "for model in clf_l2:\n",
        "  k = model.predict(X_train)\n",
        "  k2 = model.predict(X_test)\n",
        "  accuracy_l2_train.append(accuracy_score(y_train,k))\n",
        "  accuracy_l2_test.append(accuracy_score(y_test,k2))\n",
        "\n",
        "c=0\n",
        "print(\"The accuracy score with l2 regularization for the training dataset is as follows:\\n\")\n",
        "for i in 0.001, 0.01, 0.1, 1, 10, 100:\n",
        "  print(\"For lambda = \"+str(i)+\", Accuracy score = \"+str(accuracy_l2_train[c]))\n",
        "  c = c+1\n",
        "\n",
        "c=0\n",
        "print(\"\\nThe accuracy score with l2 regularization for the test dataset is as follows:\\n\")\n",
        "for i in 0.001, 0.01, 0.1, 1, 10, 100:\n",
        "  print(\"For lambda = \"+str(i)+\", Accuracy score = \"+str(accuracy_l2_test[c]))\n",
        "  c = c+1"
      ],
      "execution_count": null,
      "outputs": [
        {
          "output_type": "stream",
          "text": [
            "The accuracy score with l2 regularization for the training dataset is as follows:\n",
            "\n",
            "For lambda = 0.001, Accuracy score = 1.0\n",
            "For lambda = 0.01, Accuracy score = 1.0\n",
            "For lambda = 0.1, Accuracy score = 1.0\n",
            "For lambda = 1, Accuracy score = 1.0\n",
            "For lambda = 10, Accuracy score = 1.0\n",
            "For lambda = 100, Accuracy score = 1.0\n",
            "\n",
            "The accuracy score with l2 regularization for the test dataset is as follows:\n",
            "\n",
            "For lambda = 0.001, Accuracy score = 0.8636363636363636\n",
            "For lambda = 0.01, Accuracy score = 1.0\n",
            "For lambda = 0.1, Accuracy score = 1.0\n",
            "For lambda = 1, Accuracy score = 1.0\n",
            "For lambda = 10, Accuracy score = 1.0\n",
            "For lambda = 100, Accuracy score = 1.0\n"
          ],
          "name": "stdout"
        }
      ]
    },
    {
      "cell_type": "code",
      "metadata": {
        "id": "tVgYjaAtuxAc",
        "colab": {
          "base_uri": "https://localhost:8080/",
          "height": 513
        },
        "outputId": "e6c9693c-e3a5-4896-bfa3-8ce871ac19d7"
      },
      "source": [
        "# Performace score for elastic-penalized logistic regression with the given l1_ratio values\n",
        "\n",
        "accuracy_elasticnet_train, accuracy_elasticnet_test = [], []\n",
        "\n",
        "for model in clf_elasticnet:\n",
        "  k = model.predict(X_train)\n",
        "  k2 = model.predict(X_test)\n",
        "  accuracy_elasticnet_train.append(accuracy_score(y_train,k))\n",
        "  accuracy_elasticnet_test.append(accuracy_score(y_test,k2))\n",
        "\n",
        "c=0\n",
        "print(\"The accuracy score with elastic net regularization for the training dataset is as follows:\\n\")\n",
        "for i in 0.01, 0.1, 0.2, 0.3, 0.4, 0.5, 0.6,0.7, 0.8, 0.9, 0.99:\n",
        "  print(\"For l1_tatio = \"+str(i)+\", Accuracy score = \"+str(accuracy_elasticnet_train[c]))\n",
        "  c = c+1\n",
        "\n",
        "c=0\n",
        "print(\"\\nThe accuracy score with elastic net regularization for the test dataset is as follows:\\n\")\n",
        "for i in 0.01, 0.1, 0.2, 0.3, 0.4, 0.5, 0.6,0.7, 0.8, 0.9, 0.99:\n",
        "  print(\"For l1_ratio = \"+str(i)+\", Accuracy score = \"+str(accuracy_elasticnet_test[c]))\n",
        "  c = c+1\n"
      ],
      "execution_count": null,
      "outputs": [
        {
          "output_type": "stream",
          "text": [
            "The accuracy score with elastic net regularization for the training dataset is as follows:\n",
            "\n",
            "For l1_tatio = 0.01, Accuracy score = 1.0\n",
            "For l1_tatio = 0.1, Accuracy score = 1.0\n",
            "For l1_tatio = 0.2, Accuracy score = 1.0\n",
            "For l1_tatio = 0.3, Accuracy score = 1.0\n",
            "For l1_tatio = 0.4, Accuracy score = 1.0\n",
            "For l1_tatio = 0.5, Accuracy score = 1.0\n",
            "For l1_tatio = 0.6, Accuracy score = 1.0\n",
            "For l1_tatio = 0.7, Accuracy score = 1.0\n",
            "For l1_tatio = 0.8, Accuracy score = 1.0\n",
            "For l1_tatio = 0.9, Accuracy score = 1.0\n",
            "For l1_tatio = 0.99, Accuracy score = 1.0\n",
            "\n",
            "The accuracy score with elastic net regularization for the test dataset is as follows:\n",
            "\n",
            "For l1_ratio = 0.01, Accuracy score = 0.8636363636363636\n",
            "For l1_ratio = 0.1, Accuracy score = 0.9090909090909091\n",
            "For l1_ratio = 0.2, Accuracy score = 0.9545454545454546\n",
            "For l1_ratio = 0.3, Accuracy score = 0.9545454545454546\n",
            "For l1_ratio = 0.4, Accuracy score = 0.9545454545454546\n",
            "For l1_ratio = 0.5, Accuracy score = 0.9545454545454546\n",
            "For l1_ratio = 0.6, Accuracy score = 0.9545454545454546\n",
            "For l1_ratio = 0.7, Accuracy score = 0.9545454545454546\n",
            "For l1_ratio = 0.8, Accuracy score = 1.0\n",
            "For l1_ratio = 0.9, Accuracy score = 0.9545454545454546\n",
            "For l1_ratio = 0.99, Accuracy score = 0.9545454545454546\n"
          ],
          "name": "stdout"
        }
      ]
    },
    {
      "cell_type": "code",
      "metadata": {
        "id": "i-tOLxhTyWJ0",
        "colab": {
          "base_uri": "https://localhost:8080/",
          "height": 329
        },
        "outputId": "ea9717d9-6457-40e5-801d-919e50942761"
      },
      "source": [
        "# Performace score for kNN classifiers with different number of neighbourhood values\n",
        "\n",
        "accuracy_kNN_train, accuracy_kNN_test = [], []\n",
        "\n",
        "for model in clf_kNN:\n",
        "  k = model.predict(X_train)\n",
        "  k2 = model.predict(X_test)\n",
        "  accuracy_kNN_train.append(accuracy_score(y_train,k))\n",
        "  accuracy_kNN_test.append(accuracy_score(y_test,k2))\n",
        "\n",
        "c=0\n",
        "print(\"The accuracy score with kNN for the training dataset is as follows:\\n\")\n",
        "for i in 1, 2, 3, 4, 5, 10:\n",
        "  print(\"For n_neighbors= \"+str(i)+\", Accuracy score = \"+str(accuracy_kNN_train[c]))\n",
        "  c = c+1\n",
        "\n",
        "c=0\n",
        "print(\"\\nThe accuracy score with elastic net regularization for the test dataset is as follows:\\n\")\n",
        "for i in 1, 2, 3, 4, 5, 10:\n",
        "  print(\"For n_neighbors= \"+str(i)+\", Accuracy score = \"+str(accuracy_kNN_test[c]))\n",
        "  c = c+1\n",
        "\n"
      ],
      "execution_count": null,
      "outputs": [
        {
          "output_type": "stream",
          "text": [
            "The accuracy score with kNN for the training dataset is as follows:\n",
            "\n",
            "For n_neighbors= 1, Accuracy score = 1.0\n",
            "For n_neighbors= 2, Accuracy score = 1.0\n",
            "For n_neighbors= 3, Accuracy score = 1.0\n",
            "For n_neighbors= 4, Accuracy score = 0.98\n",
            "For n_neighbors= 5, Accuracy score = 0.98\n",
            "For n_neighbors= 10, Accuracy score = 0.96\n",
            "\n",
            "The accuracy score with elastic net regularization for the test dataset is as follows:\n",
            "\n",
            "For n_neighbors= 1, Accuracy score = 1.0\n",
            "For n_neighbors= 2, Accuracy score = 0.9090909090909091\n",
            "For n_neighbors= 3, Accuracy score = 1.0\n",
            "For n_neighbors= 4, Accuracy score = 0.9545454545454546\n",
            "For n_neighbors= 5, Accuracy score = 0.9545454545454546\n",
            "For n_neighbors= 10, Accuracy score = 0.8181818181818182\n"
          ],
          "name": "stdout"
        }
      ]
    },
    {
      "cell_type": "markdown",
      "metadata": {
        "id": "0ybRc36Y0o_j"
      },
      "source": [
        "**2.g.**"
      ]
    },
    {
      "cell_type": "code",
      "metadata": {
        "id": "Rgjcx_Mus0Sb",
        "colab": {
          "base_uri": "https://localhost:8080/",
          "height": 371
        },
        "outputId": "33029c66-a57a-477b-c624-69a26bf6b1d4"
      },
      "source": [
        "# Scatterplot for the unpenalized logistic regression\n",
        "\n",
        "c = [1]\n",
        "fig=plt.figure()\n",
        "ax=fig.add_axes([0,0,1,1])\n",
        "ax.scatter(c,accuracy_no_regularization_train, c='b', marker='x', label='Training data without regularization')\n",
        "ax.scatter(c,accuracy_no_regularization_test, c='r', marker='s', label='Test data withoutregularization')\n",
        "ax.legend(loc='best')\n",
        "ax.set_xlabel('Regularization Constant')\n",
        "ax.set_ylabel('Accuracy Score')\n",
        "ax.set_title('Scatter plot for Accuracy score against Regularization constant for unpenalized logistic regression')\n",
        "plt.show()"
      ],
      "execution_count": null,
      "outputs": [
        {
          "output_type": "display_data",
          "data": {
            "image/png": "[encoded data removed]",
            "text/plain": [
              "<Figure size 432x288 with 1 Axes>"
            ]
          },
          "metadata": {
            "tags": []
          }
        }
      ]
    },
    {
      "cell_type": "code",
      "metadata": {
        "id": "oZVVF3Of5jb2",
        "colab": {
          "base_uri": "https://localhost:8080/",
          "height": 371
        },
        "outputId": "70d9f92a-0c17-404b-f7f6-11f12e4603d0"
      },
      "source": [
        "# Scatterplot for the l1-penalized logistic regression\n",
        "\n",
        "C = [1000, 100, 10, 1, 0.1, 0.01]\n",
        "fig=plt.figure()\n",
        "ax=fig.add_axes([0,0,1,1])\n",
        "ax.scatter(C,accuracy_l1_train, c='b', marker='x', label='Training data')\n",
        "ax.scatter(C,accuracy_l1_test, c='r', marker='s', label='Test data')\n",
        "ax.legend(loc='best')\n",
        "ax.set_xlabel('Regularization Constant')\n",
        "ax.set_ylabel('Accuracy Score')\n",
        "ax.set_title('Scatter plot for Accuracy score against Regularization constant for l1-penalized logistic regression')\n",
        "plt.show()"
      ],
      "execution_count": null,
      "outputs": [
        {
          "output_type": "display_data",
          "data": {
            "image/png": "[encoded data removed]",
            "text/plain": [
              "<Figure size 432x288 with 1 Axes>"
            ]
          },
          "metadata": {
            "tags": []
          }
        }
      ]
    },
    {
      "cell_type": "code",
      "metadata": {
        "id": "ppP0UQqF6amF",
        "colab": {
          "base_uri": "https://localhost:8080/",
          "height": 371
        },
        "outputId": "ccaa04f6-e78b-4f4e-cf3a-12ad49cfb990"
      },
      "source": [
        "# Scatterplot for the l2-penalized logistic regression\n",
        "\n",
        "C = [1000, 100, 10, 1, 0.1, 0.01]\n",
        "fig=plt.figure()\n",
        "ax=fig.add_axes([0,0,1,1])\n",
        "ax.scatter(C,accuracy_l2_train, c='b', marker='x', label='Training data')\n",
        "ax.scatter(C,accuracy_l2_test, c='r', marker='s', label='Test data')\n",
        "ax.legend(loc='best')\n",
        "ax.set_xlabel('Regularization Constant')\n",
        "ax.set_ylabel('Accuracy Score')\n",
        "ax.set_title('Scatter plot for Accuracy score against Regularization constant for l2-penalized logistic regression')\n",
        "plt.show()"
      ],
      "execution_count": null,
      "outputs": [
        {
          "output_type": "display_data",
          "data": {
            "image/png": "[encoded data removed]",
            "text/plain": [
              "<Figure size 432x288 with 1 Axes>"
            ]
          },
          "metadata": {
            "tags": []
          }
        }
      ]
    },
    {
      "cell_type": "code",
      "metadata": {
        "id": "b5FU8ubL6ycZ",
        "colab": {
          "base_uri": "https://localhost:8080/",
          "height": 371
        },
        "outputId": "e96721a7-e73e-4f12-af9a-cc453701317c"
      },
      "source": [
        "# Scatterplot for the elasticnet-penalized logistic regression\n",
        "\n",
        "C = [0.01, 0.1, 0.2, 0.3, 0.4, 0.5, 0.6,0.7, 0.8, 0.9, 0.99]\n",
        "fig=plt.figure()\n",
        "ax=fig.add_axes([0,0,1,1])\n",
        "ax.scatter(C,accuracy_elasticnet_train, c='b', marker='x', label='Training data')\n",
        "ax.scatter(C,accuracy_elasticnet_test, c='r', marker='s', label='Test data')\n",
        "ax.legend(loc='best')\n",
        "ax.set_xlabel('l1_value')\n",
        "ax.set_ylabel('Accuracy Score')\n",
        "ax.set_title('Scatter plot for Accuracy score against l1_score constant for elasticnet-penalized logistic regression')\n",
        "plt.show()"
      ],
      "execution_count": null,
      "outputs": [
        {
          "output_type": "display_data",
          "data": {
            "image/png": "[encoded data removed]",
            "text/plain": [
              "<Figure size 432x288 with 1 Axes>"
            ]
          },
          "metadata": {
            "tags": []
          }
        }
      ]
    },
    {
      "cell_type": "code",
      "metadata": {
        "id": "MG92lMQy7tG6",
        "colab": {
          "base_uri": "https://localhost:8080/",
          "height": 371
        },
        "outputId": "42d607c9-b077-4488-95aa-a54667524a3d"
      },
      "source": [
        "# Scatterplot for the kNN\n",
        "\n",
        "C = [1, 2, 3, 4, 5, 10]\n",
        "fig=plt.figure()\n",
        "ax=fig.add_axes([0,0,1,1])\n",
        "ax.scatter(C,accuracy_kNN_train, c='b', marker='x', label='Training data')\n",
        "ax.scatter(C,accuracy_kNN_test, c='r', marker='s', label='Test data')\n",
        "ax.legend(loc='best')\n",
        "ax.set_xlabel('Number of neighbours')\n",
        "ax.set_ylabel('Accuracy Score')\n",
        "ax.set_title('Scatter plot for Accuracy score against number of neighbours for kNN classification')\n",
        "plt.show()"
      ],
      "execution_count": null,
      "outputs": [
        {
          "output_type": "display_data",
          "data": {
            "image/png": "[encoded data removed]",
            "text/plain": [
              "<Figure size 432x288 with 1 Axes>"
            ]
          },
          "metadata": {
            "tags": []
          }
        }
      ]
    },
    {
      "cell_type": "markdown",
      "metadata": {
        "id": "Mrdp3Oui8atG"
      },
      "source": [
        "**2.h.**"
      ]
    },
    {
      "cell_type": "markdown",
      "metadata": {
        "id": "kYCfz1GG8eQ0"
      },
      "source": [
        "The following observation is made from the scatterplots and the results of the accuracy scores of the test set for the various logistic regression techniques as well as the kNN\n",
        "\n",
        "*   **l2-penalized logistic regression** performs the best among the others like the unpenalized, l1-penalized, elastinet-pelanized and kNN. \n",
        "\n",
        "* The accuracy score for all the regularization constants are perfect 1 except only in one case. In all the other regressors, such perfect accuracy score is not achieved.\n",
        "\n",
        "*   The parameters that give the best result for the l2-panalized logistic regression are:\n",
        "\n",
        "       1.   Solver is **newton-cg**\n",
        "       2.   Random State  = 1\n",
        "\n",
        "\n",
        "\n",
        "\n",
        "\n",
        "\n",
        "\n",
        "\n"
      ]
    },
    {
      "cell_type": "markdown",
      "metadata": {
        "id": "ZFYrY6Zp_zXz"
      },
      "source": [
        "**2.i.**"
      ]
    },
    {
      "cell_type": "code",
      "metadata": {
        "id": "KjSkjZNB8dgn",
        "colab": {
          "base_uri": "https://localhost:8080/",
          "height": 219
        },
        "outputId": "984267bd-e992-4121-cc14-74cd5fe76f00"
      },
      "source": [
        "# Importing necessary package\n",
        "\n",
        "from sklearn.model_selection import cross_val_score\n",
        "\n",
        "clf_l2_CV =[]\n",
        "\n",
        "# Performing the 5-fold cross validation on the l2-penalized regression model for all the regularization parameters\n",
        "for k in clf_l2:\n",
        "  clf_l2_CV.append(cross_val_score(k,X,y,cv=5))\n",
        "\n",
        "print(\"\\nThe mean of the scores after running the 5-fold cross validation is as follows\\n\")\n",
        "\n",
        "c=0\n",
        "print(\"The accuracy score with kNN for the training dataset is as follows:\\n\")\n",
        "for i in 1000,100,10,1,0.1,0.01:\n",
        "  print(\"For regularization parameter = \"+str(i)+\", the mean accuracy score = \"+str(clf_l2_CV[c].mean()))\n",
        "  c = c+1"
      ],
      "execution_count": null,
      "outputs": [
        {
          "output_type": "stream",
          "text": [
            "\n",
            "The mean of the scores after running the 5-fold cross validation is as follows\n",
            "\n",
            "The accuracy score with kNN for the training dataset is as follows:\n",
            "\n",
            "For regularization parameter = 1000, the mean accuracy score = 0.9438095238095239\n",
            "For regularization parameter = 100, the mean accuracy score = 0.9857142857142858\n",
            "For regularization parameter = 10, the mean accuracy score = 0.9857142857142858\n",
            "For regularization parameter = 1, the mean accuracy score = 0.9857142857142858\n",
            "For regularization parameter = 0.1, the mean accuracy score = 0.9857142857142858\n",
            "For regularization parameter = 0.01, the mean accuracy score = 0.9857142857142858\n"
          ],
          "name": "stdout"
        }
      ]
    },
    {
      "cell_type": "markdown",
      "metadata": {
        "id": "rtyzgwmsIqBV"
      },
      "source": [
        "**2.j.**"
      ]
    },
    {
      "cell_type": "code",
      "metadata": {
        "id": "Z_FxXZxgIrop",
        "colab": {
          "base_uri": "https://localhost:8080/",
          "height": 268
        },
        "outputId": "1e062708-dbb4-4f40-a0cc-704be66d9f26"
      },
      "source": [
        "# Drawing the boxplots for CV for each regularization parameter\n",
        "\n",
        "my_dict ={}\n",
        "\n",
        "c=0\n",
        "for i in 1000,100,10,1,0.1,0.01:\n",
        "  my_dict[i] = clf_l2_CV[c].tolist()\n",
        "  c = c+1\n",
        "\n",
        "fig, ax = plt.subplots()\n",
        "ax.boxplot(my_dict.values())\n",
        "ax.set_xticklabels(my_dict.keys())\n",
        "ax.set_yticklabels((\"score\"))\n",
        "plt.show()"
      ],
      "execution_count": null,
      "outputs": [
        {
          "output_type": "display_data",
          "data": {
            "image/png": "[encoded data removed]",
            "text/plain": [
              "<Figure size 432x288 with 1 Axes>"
            ]
          },
          "metadata": {
            "tags": []
          }
        }
      ]
    },
    {
      "cell_type": "markdown",
      "metadata": {
        "id": "7rn9bsF1-Ts5"
      },
      "source": [
        "![image.png](data:image/png;base64,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)"
      ]
    },
    {
      "cell_type": "code",
      "metadata": {
        "id": "Em2lpQgn-UST"
      },
      "source": [
        ""
      ],
      "execution_count": null,
      "outputs": []
    }
  ]
}