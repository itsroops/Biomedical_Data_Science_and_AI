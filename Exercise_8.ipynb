{
  "nbformat": 4,
  "nbformat_minor": 0,
  "metadata": {
    "colab": {
      "name": "Guha Neogi_Elsayed_Islam_Sheet8.ipynb",
      "provenance": [],
      "collapsed_sections": []
    },
    "kernelspec": {
      "name": "python3",
      "display_name": "Python 3"
    }
  },
  "cells": [
    {
      "cell_type": "markdown",
      "metadata": {
        "id": "DLqAyBRJRn7W"
      },
      "source": [
        "**Question 1: Consensus clustering**"
      ]
    },
    {
      "cell_type": "markdown",
      "metadata": {
        "id": "QWDtEwgKRrtD"
      },
      "source": [
        "**a) What is consensus clustering? Mention 2 applications of consensus clustering.**\n"
      ]
    },
    {
      "cell_type": "markdown",
      "metadata": {
        "id": "R_npk_3OIaDa"
      },
      "source": [
        "\n",
        "\n",
        "*   Consensus Clustering (Also known as clustering aggregation or clustering ensembles)  is an algorithmic technique in which a number of different (input) clusterings have been obtained for a particular dataset and the objective is to find a single (consensus) clustering which is a better fit as compared to the existing clusterings. It is thus the problem of reconsiling clustering information about the same dataset coming from different sources or from different runs of the same algorithm.It yields a stable and robust final clustering that is in aggrement with the multiple clusterings. \n",
        "\n",
        "*   Let us have a given set of n data points as X = {x1, x2,.....,xn}, and a set of k clusterings C = {C1, C2,....Ck} of the data points in X. Each clustering Ci is a mapping from X to {1,...,TCi}, TCi is the number of points in cluster Ci. The problem of consensus clustering is to find a new cluster C* of the data X such that it best summarizes the clustering ensemble C. \n",
        "\n",
        "**Applications of consensus clustering are as follows:**\n",
        "\n",
        "1. Consensus clustering is used in scenario where there is a very high dimensional data. It thus helps in reducing the number of features from the high-dimensional dataset by pre-filtering the features and then applying the consensus algorithm to select the best features appropriately. \n",
        "\n",
        "2. Since it uses the clustering results from various clusterings, it helps to mine the pattern that is statistically stable across the various runs of the clustering algorithms even if the sample varies slighly in each run. In other words, it discovers the robustness of the discovered clusters to sampling variability. \n"
      ]
    },
    {
      "cell_type": "markdown",
      "metadata": {
        "id": "mTRaJR_WRx0B"
      },
      "source": [
        "**b) Define consensus matrix in your own words with the help of the formula.**\n"
      ]
    },
    {
      "cell_type": "markdown",
      "metadata": {
        "id": "2vBpWVECW2yj"
      },
      "source": [
        "Consensus matrix is a matrix based on the cooccurrence of vertices in clusters of the input partitions.It is an (N × N ) matrix that stores, for each pair of data items, the ratio of the number of times for which both the items got clustered together to the number of times both the items were selected in the sampling, for all the runs. It is then averaged over the connectivity matrices of every perturbed dataset to create the consensus matrix.\n",
        "\n",
        "It provides for a similarity measure that can be used in conjunction with an agglomerative hierarchical tree construction algorithm to yield a dendogram of item adjacencies.\n",
        "\n",
        "The mathematical representation of the consensus matrix is as follows:\n",
        "\n",
        "Let us assume that D(1) , D(2) , . . . , D(H) be the list of H perturbed datasets obtained by resampling the original\n",
        "dataset D. Also, let M(h) denote the (N × N ) connectivity matrix corresponding to dataset\n",
        "D(h). The entries of this matrix are defined as follows:\n",
        "\n",
        "M(h)(i,j)  = 1, if items i and j belong to the same cluster.\n",
        "           = 0, if they belong to different clusters.\n",
        "\n",
        "Let I(h) be the (N × N ) indicator matrix such that its (i, j)-th entry is equal to 1 if both items i and j are present in the dataset D (h) , and 0 otherwise.\n",
        "\n",
        "The consensus matrix M can then be defined as a properly normalized sum of the\n",
        "connectivity matrices of all the perturbed datasets {D (h) : h = 1, 2, . . . , H }:\n",
        "\n",
        "Mat(i, j) = (M (h) (i, j) for all h) / (I(h) (i, j) for all h)"
      ]
    },
    {
      "cell_type": "markdown",
      "metadata": {
        "id": "ELSGmmQLR20R"
      },
      "source": [
        "**c) Mention pros and cons of consensus clustering.**\n"
      ]
    },
    {
      "cell_type": "markdown",
      "metadata": {
        "id": "DmonB-CzgRpa"
      },
      "source": [
        "**Pros of Consensus Clustering:**\n",
        "\n",
        "*   It helps to identify the statistically stable clusters ingoring the slight data variability.\n",
        "\n",
        "*   It acts as a good measure to prescribe the number of clusters to be taken for various clustering schemes that require taking prior number of clusters.\n",
        "\n",
        "*   It helps in identifying the outliers and the representatives clusters for further clustering analysis of a high-dimensional dataset.\n",
        "\n",
        "**Cons of Consensus Clustering:**\n",
        "\n",
        "*   It involves a good amount of computational overhead as compared to the traditional clustering schemes because of its consensus technique.\n",
        "\n",
        "*   Since it is distance-based, it requires efficient feature engineering in case of a high-dimensional dataset.\n"
      ]
    },
    {
      "cell_type": "markdown",
      "metadata": {
        "id": "jv_dY093R9zx"
      },
      "source": [
        "**d) Fill in the gaps for the pseudocode of the consensus clustering. Pseudocode provided in the assignment.**\n",
        "\n"
      ]
    },
    {
      "cell_type": "markdown",
      "metadata": {
        "id": "73mlhSe6jBYX"
      },
      "source": [
        "The blanks are filled up as follows\n",
        "\n",
        "*  **belonging to all the items of K**\n",
        "\n",
        "*   M is the set of connectivity maatrices which is initially empty.\n",
        "\n",
        "*   D is the generic dataset and D(h) is the dataset obtained by resampling D \n",
        "\n",
        "*   **K** clusters\n",
        "\n",
        "*   **Mat(K)** which is the consensus matrix for a specified k\n",
        "\n",
        "*   **D , Mat(K)**\n",
        "\n",
        "*    **Mat(K)**\n",
        "\n"
      ]
    },
    {
      "cell_type": "markdown",
      "metadata": {
        "id": "slnBph-GSBaM"
      },
      "source": [
        "**e) Perform (k-means) consensus clustering of samples for the given gene expression data . Take minimum clusters as 2, maximum clusters as 6, resampling proportion as 80% and number of iterations as 10. Find:**"
      ]
    },
    {
      "cell_type": "code",
      "metadata": {
        "id": "yFh48KgRRqyp"
      },
      "source": [
        "# Importing the necessary packages\n",
        "import numpy as np\n",
        "import pandas as pd\n",
        "from sklearn.datasets import load_breast_cancer\n",
        "from sklearn.cluster import KMeans\n",
        "import matplotlib.pyplot as plt\n",
        "np.random.seed(0)"
      ],
      "execution_count": null,
      "outputs": []
    },
    {
      "cell_type": "markdown",
      "metadata": {
        "id": "AyxTJQrpSMZF"
      },
      "source": [
        "Load the gene expression data"
      ]
    },
    {
      "cell_type": "code",
      "metadata": {
        "id": "Bh1cRZXOSNPl",
        "colab": {
          "base_uri": "https://localhost:8080/",
          "height": 35
        },
        "outputId": "d89fe5cd-9b6b-43c5-f5b4-34d24d19e114"
      },
      "source": [
        "# Mounting the Google Drive for accessing the Cleveland dataset\n",
        "from google.colab import drive\n",
        "drive.mount('/content/drive')\n"
      ],
      "execution_count": null,
      "outputs": [
        {
          "output_type": "stream",
          "text": [
            "Drive already mounted at /content/drive; to attempt to forcibly remount, call drive.mount(\"/content/drive\", force_remount=True).\n"
          ],
          "name": "stdout"
        }
      ]
    },
    {
      "cell_type": "code",
      "metadata": {
        "id": "KkWOa4cPtIOR",
        "colab": {
          "base_uri": "https://localhost:8080/",
          "height": 164
        },
        "outputId": "31b65675-9860-4b20-db68-dbdce129d33d"
      },
      "source": [
        "dataUrl = \"/content/drive/My Drive/Colab Notebooks/Data Files/allData.csv\"\n",
        "geneExpData = pd.read_csv(dataUrl)\n",
        "print(geneExpData.head(5))"
      ],
      "execution_count": null,
      "outputs": [
        {
          "output_type": "stream",
          "text": [
            "  Unnamed: 0  36638_at  39318_at  ...  32578_at  39383_at  33718_at\n",
            "0      01005  0.583368  0.535258  ...  0.438651  0.395720  0.273593\n",
            "1      01010  0.505321  0.704177  ...  0.584035  0.589994  0.401375\n",
            "2      03002  0.375805  0.073716  ...  0.556874  0.931118  0.301529\n",
            "3      04006  1.000000  0.226960  ...  0.670769  0.541601  0.659517\n",
            "4      04007  0.890125  0.631314  ...  0.571348  0.425701  0.196066\n",
            "\n",
            "[5 rows x 5001 columns]\n"
          ],
          "name": "stdout"
        }
      ]
    },
    {
      "cell_type": "code",
      "metadata": {
        "id": "1wuhCzk2SPz2"
      },
      "source": [
        "geneExpData = geneExpData.drop(['Unnamed: 0'], axis=1)"
      ],
      "execution_count": null,
      "outputs": []
    },
    {
      "cell_type": "code",
      "metadata": {
        "id": "ooLFv3xmSTwG"
      },
      "source": [
        "# Converting the dataset into 2D array\n",
        "geneExpData = geneExpData.to_numpy()"
      ],
      "execution_count": null,
      "outputs": []
    },
    {
      "cell_type": "code",
      "metadata": {
        "id": "6nhHuHc_ST4-"
      },
      "source": [
        "!cp \"/content/drive/My Drive/Colab Notebooks/consensusClustering.py\" ."
      ],
      "execution_count": null,
      "outputs": []
    },
    {
      "cell_type": "code",
      "metadata": {
        "id": "QvkF-vGxSUA_"
      },
      "source": [
        "# Importing the necessary packages for consensus clustering\n",
        "import consensusClustering\n",
        "from consensusClustering import ConsensusCluster"
      ],
      "execution_count": null,
      "outputs": []
    },
    {
      "cell_type": "code",
      "metadata": {
        "id": "hpS6wNZW-8lw"
      },
      "source": [
        "# Performing consensus k-means clustering with the given parameters\n",
        "cc = ConsensusCluster(KMeans,2,6,10,resample_proportion=0.8)"
      ],
      "execution_count": null,
      "outputs": []
    },
    {
      "cell_type": "code",
      "metadata": {
        "id": "rz_Ci-Mb3J1X"
      },
      "source": [
        "# Fitting the data\n",
        "c = cc.fit(geneExpData)"
      ],
      "execution_count": null,
      "outputs": []
    },
    {
      "cell_type": "markdown",
      "metadata": {
        "id": "zmShkgEVPkY9"
      },
      "source": [
        "**i) Best number of clusters**"
      ]
    },
    {
      "cell_type": "code",
      "metadata": {
        "id": "nSC8g7FsNSvU",
        "colab": {
          "base_uri": "https://localhost:8080/",
          "height": 35
        },
        "outputId": "739b17c9-721c-4a07-9ab6-0c1d33239555"
      },
      "source": [
        "print(\"The best number of clusters is \" + str(c[1]))"
      ],
      "execution_count": null,
      "outputs": [
        {
          "output_type": "stream",
          "text": [
            "The best number of clusters is 2\n"
          ],
          "name": "stdout"
        }
      ]
    },
    {
      "cell_type": "markdown",
      "metadata": {
        "id": "VlTBgzFqP8GS"
      },
      "source": [
        "**ii) Change in area under CDF**"
      ]
    },
    {
      "cell_type": "code",
      "metadata": {
        "id": "tuINtdQ2QO3-",
        "colab": {
          "base_uri": "https://localhost:8080/",
          "height": 35
        },
        "outputId": "7671516a-3d25-4bd7-dc12-86a8956bc904"
      },
      "source": [
        "print(\"Change in area under CDF is\" + str(c[0]))"
      ],
      "execution_count": null,
      "outputs": [
        {
          "output_type": "stream",
          "text": [
            "Change in area under CDF is[ 9.91589355e+00 -1.52611628e-03  3.77181738e-03]\n"
          ],
          "name": "stdout"
        }
      ]
    },
    {
      "cell_type": "markdown",
      "metadata": {
        "id": "1UCbzITVQg1C"
      },
      "source": [
        "**iii)Best cluster from the consensus matrix for each sample**"
      ]
    },
    {
      "cell_type": "code",
      "metadata": {
        "id": "AxrjESIuQlw8",
        "colab": {
          "base_uri": "https://localhost:8080/",
          "height": 127
        },
        "outputId": "899b764c-6eb4-42e9-b9f0-181eee726ef4"
      },
      "source": [
        "cc.predict()"
      ],
      "execution_count": null,
      "outputs": [
        {
          "output_type": "execute_result",
          "data": {
            "text/plain": [
              "array([0, 0, 0, 0, 0, 0, 0, 0, 1, 0, 0, 0, 0, 0, 0, 0, 0, 0, 0, 1, 0, 0,\n",
              "       1, 0, 0, 0, 0, 1, 0, 1, 1, 0, 0, 0, 0, 1, 0, 0, 0, 0, 0, 0, 1, 0,\n",
              "       0, 0, 0, 0, 0, 0, 0, 0, 0, 0, 0, 0, 0, 0, 0, 0, 0, 0, 0, 0, 0, 0,\n",
              "       0, 0, 0, 0, 0, 0, 0, 0, 0, 0, 0, 0, 0, 0, 0, 0, 0, 0, 0, 0, 0, 0,\n",
              "       0, 0, 0, 0, 0, 0, 0, 0, 0, 0, 0, 0, 0, 0, 0, 0, 0, 0, 0, 0, 0, 0,\n",
              "       0, 0, 0, 0, 0, 0, 0, 0, 0, 0, 0, 0, 0, 0, 0, 0, 0, 0], dtype=int32)"
            ]
          },
          "metadata": {
            "tags": []
          },
          "execution_count": 296
        }
      ]
    },
    {
      "cell_type": "markdown",
      "metadata": {
        "id": "Kz1lAkKYSZ3y"
      },
      "source": [
        "**Question 2. Read about bi-clustering and explain it in your own words. Give an example of an algorithm based on bi-clustering.**"
      ]
    },
    {
      "cell_type": "markdown",
      "metadata": {
        "id": "EGRmpjodZBem"
      },
      "source": [
        "Bi-clustering is a method in machine learning that allows selecting the area of interest in the Big data by selecting similar rows and columns which have similar features and cluster them together. The algorithm produces biclusters between rows and columns which produce the same behavior together. For example, finding the genes that are co-regulated in subset conditions  subgroups of genes and subgroups of conditions, where the genes exhibit highly correlated activities for every condition or we want to discover which of our patients have similar diseases.\n",
        "\n",
        "Bi-clustering is one of the NP's complete problems; it is not an easy algorithm to solve as it is computationally expensive so there are several algorithms used as **Robust Biclustering Algorithm (RoBA**) which made up of three steps parts. The first is data conditioning  which clean data to get rid of the noise and to solve the problem of missing values. The second step is to decompose the data matrix A into elementary matrix . Lastly extracting any type of biclusters defined by the user as b-iclustering with constant values."
      ]
    },
    {
      "cell_type": "markdown",
      "metadata": {
        "id": "F-Jk8m5-SZ8b"
      },
      "source": [
        "**Question 3. NMF Clustering**\n"
      ]
    },
    {
      "cell_type": "markdown",
      "metadata": {
        "id": "LYMsbGdoF_p4"
      },
      "source": [
        "**a) Explain Non-negative matrix factorization (NMF) in your own words.** "
      ]
    },
    {
      "cell_type": "markdown",
      "metadata": {
        "id": "2wadDfqfGW57"
      },
      "source": [
        "NMF (Nonnegative Matrix Factorization)  is a matrix factorization method where we constrain the matrices to be nonnegative. If I have a matrix m*n which does not have any negative values in it and we want to factorize this matrix into two non-negative matrices W and H where W is N*K and H is M*K so to do that we must solve the minimization problem, we need to minimize the distance between X and W-H arg: min(w, H) cost (X-WH)subject to W, H > 0 where we want to minimize divergence between X and WH, but this problem is NP-Hard problem as it is convex in W or H but not in both so in this problem we cannot find the global minimum however finding a good local minimum can be satisfying and update done by Kim & Park, 2007 where the additionally enforce sparsity in W and H matrices where allow set of certain features specific to each other. NMF is distinguished from PCA and VQ by its use of nonnegativity constraints."
      ]
    },
    {
      "cell_type": "markdown",
      "metadata": {
        "id": "oNxYkJ9XGgdZ"
      },
      "source": [
        "**b) Mention pros and cons of NMF**"
      ]
    },
    {
      "cell_type": "markdown",
      "metadata": {
        "id": "tcp3tv6gGm9Y"
      },
      "source": [
        "**Pros of NMF:**\n",
        "\n",
        "*  It represent data with non-negative features well ( it has non-negative constraint).\n",
        "\n",
        "*  NMF doesn’t use the distance based measures.\n",
        "\n",
        "*  Joint feature selection and clustering.\n",
        "\n",
        "**Cons of NMF:**\n",
        "\n",
        "*   Can only detect linearly separable clusters.\n",
        "\n",
        "*   It is computationally taxing.\n",
        "\n",
        "*   Different NMF algorithms find different factorizations and same NMF algorithm with different parameters may lead to different factorization\n",
        "\n",
        "*   One requirement of NMF is that the values of data should be non-negative, while in many real-world problems the non-negative constraints cannot be satisfied.\n",
        "\n",
        "\n"
      ]
    },
    {
      "cell_type": "markdown",
      "metadata": {
        "id": "e1xdt5SIH9LB"
      },
      "source": [
        "**c) Mention an application of NMF**"
      ]
    },
    {
      "cell_type": "markdown",
      "metadata": {
        "id": "3BcTyZW8IJix"
      },
      "source": [
        "*   Applications in image processing, text processing and mining, music transcription, video analysis, bioinformatics, chemistry. Image mining applications include data compression, finding similar images, cluster images.\n",
        "\n",
        "*   In Text Mining application document-term matrix is constructed with the weights of various terms from a set of documents. This matrix is factorized into a term-feature and a feature-document matrix. The features are derived from the contents of the documents, and the feature-document matrix describes data clusters of related documents. Text mining applications include data compression,finding similar terms,finding similar documents,clustering documents,topic detection and tracking."
      ]
    },
    {
      "cell_type": "markdown",
      "metadata": {
        "id": "zm9b8K_gSZ_4"
      },
      "source": [
        "**d) Use the nimfa package for NMF clustering on gene expression data. Use the parameters (10 ranks, 50 maximum iterations and 25 runs) to compute the following:**\n",
        "\n",
        "**i) From the average connectivity matrix across multiple runs compute consensus matrix**"
      ]
    },
    {
      "cell_type": "code",
      "metadata": {
        "id": "P5Xdq3PMSlba",
        "colab": {
          "base_uri": "https://localhost:8080/",
          "height": 166
        },
        "outputId": "bd3b74f7-e9f0-4360-8e3a-635fab215870"
      },
      "source": [
        "!pip install nimfa"
      ],
      "execution_count": null,
      "outputs": [
        {
          "output_type": "stream",
          "text": [
            "Collecting nimfa\n",
            "\u001b[?25l  Downloading https://files.pythonhosted.org/packages/75/e3/1f5626e07fa38b9fd5bf92c018b97e8dd4eec69dd6284b1294fd46873e66/nimfa-1.4.0-py2.py3-none-any.whl (4.7MB)\n",
            "\u001b[K     |████████████████████████████████| 4.7MB 7.6MB/s \n",
            "\u001b[?25hRequirement already satisfied: numpy>=1.7.0 in /usr/local/lib/python3.6/dist-packages (from nimfa) (1.18.5)\n",
            "Requirement already satisfied: scipy>=0.12.0 in /usr/local/lib/python3.6/dist-packages (from nimfa) (1.4.1)\n",
            "Installing collected packages: nimfa\n",
            "Successfully installed nimfa-1.4.0\n"
          ],
          "name": "stdout"
        }
      ]
    },
    {
      "cell_type": "code",
      "metadata": {
        "id": "OUjlcrqWSlm7"
      },
      "source": [
        "# Importing relevant packages\n",
        "import numpy as np\n",
        "import nimfa\n",
        "from matplotlib import pyplot as plt\n",
        "import matplotlib.gridspec as gridspec\n",
        "import scipy.cluster.hierarchy as ch\n",
        "import urllib"
      ],
      "execution_count": null,
      "outputs": []
    },
    {
      "cell_type": "code",
      "metadata": {
        "id": "4vVPvQ_tSlus",
        "colab": {
          "base_uri": "https://localhost:8080/",
          "height": 164
        },
        "outputId": "b8a0ab4f-b311-4c7a-805a-9811f0e72914"
      },
      "source": [
        "dataUrlAll = \"/content/drive/My Drive/Colab Notebooks/Data Files/allData.csv\"\n",
        "allData = pd.read_csv(dataUrlAll)\n",
        "print(allData.head(5))"
      ],
      "execution_count": null,
      "outputs": [
        {
          "output_type": "stream",
          "text": [
            "  Unnamed: 0  36638_at  39318_at  ...  32578_at  39383_at  33718_at\n",
            "0      01005  0.583368  0.535258  ...  0.438651  0.395720  0.273593\n",
            "1      01010  0.505321  0.704177  ...  0.584035  0.589994  0.401375\n",
            "2      03002  0.375805  0.073716  ...  0.556874  0.931118  0.301529\n",
            "3      04006  1.000000  0.226960  ...  0.670769  0.541601  0.659517\n",
            "4      04007  0.890125  0.631314  ...  0.571348  0.425701  0.196066\n",
            "\n",
            "[5 rows x 5001 columns]\n"
          ],
          "name": "stdout"
        }
      ]
    },
    {
      "cell_type": "code",
      "metadata": {
        "id": "L76WEl7nTl6j"
      },
      "source": [
        "allData = allData.drop(['Unnamed: 0'], axis=1)"
      ],
      "execution_count": null,
      "outputs": []
    },
    {
      "cell_type": "code",
      "metadata": {
        "id": "XLhcy11iUmmi"
      },
      "source": [
        "# Converting the dataset into 2D array\n",
        "allData = allData.to_numpy()"
      ],
      "execution_count": null,
      "outputs": []
    },
    {
      "cell_type": "code",
      "metadata": {
        "id": "PReeaXpaU5pm"
      },
      "source": [
        "# Performing the NMF clustering\n",
        "nmf_clustering = nimfa.Nmf(allData,rank=10, max_iter=50, n_run=25)"
      ],
      "execution_count": null,
      "outputs": []
    },
    {
      "cell_type": "code",
      "metadata": {
        "id": "EYiw2WTUXM0S"
      },
      "source": [
        "# Fitting the data\n",
        "n = nmf_clustering()"
      ],
      "execution_count": null,
      "outputs": []
    },
    {
      "cell_type": "markdown",
      "metadata": {
        "id": "x5FPVW3BZeNK"
      },
      "source": [
        "**ii) Produce a heatmap with a dendogram from the clustering results you obtained**"
      ]
    },
    {
      "cell_type": "code",
      "metadata": {
        "id": "dtmppazzZdjI",
        "colab": {
          "base_uri": "https://localhost:8080/",
          "height": 653
        },
        "outputId": "38b3ed34-63b5-4df1-e664-bd5423acb9e4"
      },
      "source": [
        "fig = plt.figure(figsize=(15, 10))\n",
        "heatmapGS = gridspec.GridSpec(1, 2)\n",
        "\n",
        "C = 1 - n.fit.consensus()\n",
        "Y = ch.linkage(C, method='ward')\n",
        "\n",
        "denAX = fig.add_subplot(heatmapGS[0,0])\n",
        "denD = ch.dendrogram(Y, orientation='right', link_color_func=lambda k: 'black')\n",
        "\n",
        "\n",
        "heatmapAX = fig.add_subplot(heatmapGS[0,1])\n",
        "D = C[denD['leaves'], :][:, denD['leaves']]\n",
        "axi = heatmapAX.imshow(D, interpolation='nearest', aspect='equal', origin='lower', cmap='RdBu') \n",
        "\n",
        "cb = fig.colorbar(axi) \n",
        "cb.set_label('Distance', fontsize=20)"
      ],
      "execution_count": null,
      "outputs": [
        {
          "output_type": "stream",
          "text": [
            "/usr/local/lib/python3.6/dist-packages/ipykernel_launcher.py:5: ClusterWarning: scipy.cluster: The symmetric non-negative hollow observation matrix looks suspiciously like an uncondensed distance matrix\n",
            "  \"\"\"\n"
          ],
          "name": "stderr"
        },
        {
          "output_type": "display_data",
          "data": {
            "image/png": "[encoded data removed]",
            "text/plain": [
              "<Figure size 1080x720 with 3 Axes>"
            ]
          },
          "metadata": {
            "tags": [],
            "needs_background": "light"
          }
        }
      ]
    },
    {
      "cell_type": "code",
      "metadata": {
        "id": "ScLnvdVESuI4"
      },
      "source": [
        ""
      ],
      "execution_count": null,
      "outputs": []
    }
  ]
}